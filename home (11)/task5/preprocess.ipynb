{
 "cells": [
  {
   "cell_type": "code",
   "execution_count": 114,
   "id": "18be42c9",
   "metadata": {},
   "outputs": [
    {
     "name": "stdout",
     "output_type": "stream",
     "text": [
      "Requirement already satisfied: scikit-learn in c:\\users\\minec\\miniconda3\\lib\\site-packages (1.6.1)\n",
      "Requirement already satisfied: numpy>=1.19.5 in c:\\users\\minec\\miniconda3\\lib\\site-packages (from scikit-learn) (2.2.4)\n",
      "Requirement already satisfied: scipy>=1.6.0 in c:\\users\\minec\\miniconda3\\lib\\site-packages (from scikit-learn) (1.15.3)\n",
      "Requirement already satisfied: joblib>=1.2.0 in c:\\users\\minec\\miniconda3\\lib\\site-packages (from scikit-learn) (1.5.0)\n",
      "Requirement already satisfied: threadpoolctl>=3.1.0 in c:\\users\\minec\\miniconda3\\lib\\site-packages (from scikit-learn) (3.6.0)\n"
     ]
    }
   ],
   "source": [
    "!pip install scikit-learn"
   ]
  },
  {
   "cell_type": "code",
   "execution_count": 115,
   "id": "e3237bb0",
   "metadata": {},
   "outputs": [],
   "source": [
    "import pandas as pd\n",
    "import matplotlib.pyplot as plt\n",
    "import pandas as pd\n",
    "import numpy as np\n",
    "import matplotlib.pyplot as plt\n",
    "import seaborn as sns\n",
    "from sklearn.preprocessing import OneHotEncoder\n",
    "from sklearn.preprocessing import StandardScaler\n",
    "\n",
    "\n",
    "accident_df = pd.read_csv('../accident.csv')\n",
    "#vehicle_df = pd.read_csv('../vehicle.csv')\n",
    "filtered_vehicle_df = pd.read_csv('../filtered_vehicle.csv')\n",
    "person_df = pd.read_csv('../person.csv')\n",
    "\n",
    "# merge only on 'ACCIDENT_NO' will cause a huge duplication in data, that leads to 728,905 rows of data, which by checking\n",
    "# 345,184 rows are actual duplication rows, that it  47.4%.\n",
    "\n",
    "#merged_df = pd.merge(accident_df, filtered_vehicle_df, on='ACCIDENT_NO', how='inner')\n",
    "#merged_df = pd.merge(merged_df, person_df, on='ACCIDENT_NO', how='inner')\n",
    "\n",
    "# new merge method merges on both 'ACCIDENT_NO' and 'VEHICLE_ID'\n",
    "vp = pd.merge(person_df, filtered_vehicle_df, on=['ACCIDENT_NO', 'VEHICLE_ID'], how='inner')\n",
    "merged_df = pd.merge(vp, accident_df, on='ACCIDENT_NO', how='left')\n",
    "\n"
   ]
  },
  {
   "cell_type": "markdown",
   "id": "2b847498",
   "metadata": {},
   "source": [
    "Lets first look at the dimension of the data"
   ]
  },
  {
   "cell_type": "code",
   "execution_count": 116,
   "id": "9af5d187",
   "metadata": {},
   "outputs": [
    {
     "name": "stdout",
     "output_type": "stream",
     "text": [
      "ACCIDENT_NO: ['T20250000606' 'T20240012414' 'T20240001586' 'T20200004467'\n",
      " 'T20190018772']\n",
      "PERSON_ID: ['A' '01' 'B' '02' '04']\n",
      "VEHICLE_ID: ['A' 'B' 'C' 'D' 'E']\n",
      "SEX: ['M' 'F' 'U']\n",
      "AGE_GROUP: ['40-49' '26-29' '18-21' '16-17' '22-25']\n",
      "INJ_LEVEL: [3 4 2 1]\n",
      "INJ_LEVEL_DESC: ['Other injury' 'Not injured' 'Serious injury' 'Fatality']\n",
      "SEATING_POSITION: ['D' 'LF' 'OR' 'NK' 'RR']\n",
      "HELMET_BELT_WORN: [9. 1. 8. 2. 3.]\n",
      "ROAD_USER_TYPE: [2 3 9 7 1]\n",
      "ROAD_USER_TYPE_DESC: ['Drivers' 'Passengers' 'Not Known' 'Pedestrians' 'Motorcyclists']\n",
      "LICENCE_STATE: ['V' 'Z' 'O' 'W' 'D']\n",
      "TAKEN_HOSPITAL: ['N' 'Y']\n",
      "EJECTED_CODE: [0. 9. 1. 3. 2.]\n",
      "VEHICLE_YEAR_MANUF: [2016. 2008. 2012. 2009. 1994.]\n",
      "VEHICLE_DCA_CODE: [1. 2. 8. 3.]\n",
      "INITIAL_DIRECTION: ['N' 'SW' 'E' 'S' 'NE']\n",
      "ROAD_SURFACE_TYPE: [1. 9. 3. 2.]\n",
      "ROAD_SURFACE_TYPE_DESC: ['Paved' 'Not known' 'Gravel' 'Unpaved']\n",
      "REG_STATE: ['V' 'S' 'T' 'W' 'N']\n",
      "VEHICLE_BODY_STYLE: ['SEDAN' 'WAGON' 'S WAG' 'UTIL' 'DC UTE']\n",
      "VEHICLE_MAKE: ['TOYOTA' 'M MOVE' 'HOLDEN' 'HONDA' 'MAZDA']\n",
      "VEHICLE_MODEL: ['CAMRY' 'COOPER' 'KLUGER' 'VE SS' 'HILUX']\n",
      "VEHICLE_POWER: []\n",
      "VEHICLE_TYPE: [ 1  2  4 71 61]\n",
      "VEHICLE_TYPE_DESC: ['Car' 'Station Wagon' 'Utility'\n",
      " 'Light Commercial Vehicle (Rigid) <= 4.5 Tonnes GVM'\n",
      " 'Prime Mover - Single Trailer']\n",
      "VEHICLE_WEIGHT: [ 2100.  1805. 26000.  2805.  2800.]\n",
      "CONSTRUCTION_TYPE: ['R' 'P' 'A']\n",
      "FUEL_TYPE: ['M' 'P' 'D' 'G' 'E']\n",
      "NO_OF_WHEELS: [ 4.  6.  8. 12. 10.]\n",
      "NO_OF_CYLINDERS: [4. 6. 8. 5. 3.]\n",
      "SEATING_CAPACITY: [ 5.  7.  2.  3. 42.]\n",
      "TARE_WEIGHT: [1570. 1145. 1805. 1875. 1840.]\n",
      "TOTAL_NO_OCCUPANTS: [1. 2. 5. 3. 4.]\n",
      "CARRY_CAPACITY: [  530.   560. 15800.   985.  1305.]\n",
      "CUBIC_CAPACITY: [1900. 2500. 3500. 4000. 3600.]\n",
      "FINAL_DIRECTION: ['E' 'SW' 'S' 'NE' 'W']\n",
      "DRIVER_INTENT: [ 2.  1.  6. 17.  4.]\n",
      "VEHICLE_MOVEMENT: [ 2. 15.  1.  6. 17.]\n",
      "TRAILER_TYPE: ['H' 'J' 'G' 'B' 'F']\n",
      "VEHICLE_COLOUR_1: ['WHI' 'RED' 'SIL' 'BLU' 'GRY']\n",
      "VEHICLE_COLOUR_2: ['ZZ' 'OGE' 'GRY' 'SIL' 'BLK']\n",
      "CAUGHT_FIRE: [2. 9. 1. 0.]\n",
      "INITIAL_IMPACT: ['8' 'R' 'F' '1' '6']\n",
      "LAMPS: [9. 2. 1. 0.]\n",
      "LEVEL_OF_DAMAGE: [2 3 4 9 1]\n",
      "TOWED_AWAY_FLAG: [2. 1. 9.]\n",
      "TRAFFIC_CONTROL: [ 9.  0. 11.  1. 99.]\n",
      "TRAFFIC_CONTROL_DESC: ['Roundabout' 'No control' 'Giveway sign' 'Stop-go lights' 'Unknown']\n",
      "ACCIDENT_DATE: ['2023-10-23' '2024-05-15' '2024-01-21' '2020-02-24' '2019-09-23']\n",
      "ACCIDENT_TIME: ['08:40:00' '19:11:00' '17:16:00' '16:40:00' '17:34:00']\n",
      "ACCIDENT_TYPE: [1 4 8 3 2]\n",
      "ACCIDENT_TYPE_DESC: ['Collision with vehicle' 'Collision with a fixed object'\n",
      " 'No collision and no object struck' 'Struck animal' 'Struck Pedestrian']\n",
      "DAY_OF_WEEK: [2 4 1 6 3]\n",
      "DAY_WEEK_DESC: ['Monday' 'Wednesday' 'Sunday' 'Friday' 'Tuesday']\n",
      "DCA_CODE: [121 130 148 110 142]\n",
      "DCA_DESC: ['RIGHT THROUGH' 'REAR END(VEHICLES IN SAME LANE)'\n",
      " 'VEHICLE OFF FOOTPATH STRIKES VEH ON CARRIAGEWAY'\n",
      " 'CROSS TRAFFIC(INTERSECTIONS ONLY)' 'LEAVING PARKING']\n",
      "LIGHT_CONDITION: [1 3 5 2 9]\n",
      "NODE_ID: [294054 127675 797823  63183 295214]\n",
      "NO_OF_VEHICLES: [2 1 3 4 6]\n",
      "NO_PERSONS_KILLED: [0 1 2 4 3]\n",
      "NO_PERSONS_INJ_2: [0 1 3 2 4]\n",
      "NO_PERSONS_INJ_3: [1 2 0 5 3]\n",
      "NO_PERSONS_NOT_INJ: [1 5 2 0 3]\n",
      "NO_PERSONS: [2 3 6 1 5]\n",
      "POLICE_ATTEND: [2 1 9]\n",
      "ROAD_GEOMETRY: [1 5 2 4 3]\n",
      "ROAD_GEOMETRY_DESC: ['Cross intersection' 'Not at intersection' 'T intersection'\n",
      " 'Multiple intersection' 'Y intersection']\n",
      "SEVERITY: [3 2 1 4]\n",
      "SPEED_ZONE: [ 60 999  50 110 888]\n",
      "RMA: ['Local Road' 'Arterial Other' 'Arterial Highway' 'Freeway' 'Non Arterial']\n"
     ]
    }
   ],
   "source": [
    "# show some examples of each feature\n",
    "\n",
    "for col in merged_df.columns:\n",
    "    print(f\"{col}: {merged_df[col].dropna().unique()[:5]}\")\n"
   ]
  },
  {
   "cell_type": "code",
   "execution_count": 117,
   "id": "ba1a85d7",
   "metadata": {},
   "outputs": [
    {
     "data": {
      "text/plain": [
       "71"
      ]
     },
     "execution_count": 117,
     "metadata": {},
     "output_type": "execute_result"
    }
   ],
   "source": [
    "# number of features\n",
    "merged_df.shape[1]"
   ]
  },
  {
   "cell_type": "code",
   "execution_count": 118,
   "id": "fe9f2925",
   "metadata": {},
   "outputs": [
    {
     "data": {
      "text/plain": [
       "331993"
      ]
     },
     "execution_count": 118,
     "metadata": {},
     "output_type": "execute_result"
    }
   ],
   "source": [
    "# number of rows \n",
    "len(merged_df)"
   ]
  },
  {
   "cell_type": "code",
   "execution_count": 119,
   "id": "44b61e57",
   "metadata": {},
   "outputs": [
    {
     "name": "stdout",
     "output_type": "stream",
     "text": [
      "VEHICLE_POWER             331993\n",
      "CUBIC_CAPACITY            302305\n",
      "VEHICLE_WEIGHT            282216\n",
      "CARRY_CAPACITY            282211\n",
      "TAKEN_HOSPITAL            232911\n",
      "LICENCE_STATE              75363\n",
      "EJECTED_CODE               23523\n",
      "RMA                        12720\n",
      "VEHICLE_MODEL               2591\n",
      "VEHICLE_DCA_CODE             706\n",
      "CONSTRUCTION_TYPE            669\n",
      "INITIAL_IMPACT               120\n",
      "VEHICLE_BODY_STYLE            59\n",
      "SEATING_POSITION              26\n",
      "SEX                           22\n",
      "TRAILER_TYPE                  16\n",
      "VEHICLE_YEAR_MANUF             8\n",
      "VEHICLE_COLOUR_2               2\n",
      "HELMET_BELT_WORN               1\n",
      "VEHICLE_MOVEMENT               1\n",
      "PERSON_ID                      0\n",
      "ACCIDENT_NO                    0\n",
      "VEHICLE_ID                     0\n",
      "INJ_LEVEL_DESC                 0\n",
      "INJ_LEVEL                      0\n",
      "AGE_GROUP                      0\n",
      "ROAD_SURFACE_TYPE_DESC         0\n",
      "VEHICLE_MAKE                   0\n",
      "REG_STATE                      0\n",
      "ROAD_SURFACE_TYPE              0\n",
      "VEHICLE_TYPE                   0\n",
      "NO_OF_CYLINDERS                0\n",
      "NO_OF_WHEELS                   0\n",
      "FUEL_TYPE                      0\n",
      "SEATING_CAPACITY               0\n",
      "INITIAL_DIRECTION              0\n",
      "ROAD_USER_TYPE                 0\n",
      "VEHICLE_TYPE_DESC              0\n",
      "ROAD_USER_TYPE_DESC            0\n",
      "DRIVER_INTENT                  0\n",
      "FINAL_DIRECTION                0\n",
      "TARE_WEIGHT                    0\n",
      "TOTAL_NO_OCCUPANTS             0\n",
      "CAUGHT_FIRE                    0\n",
      "LAMPS                          0\n",
      "LEVEL_OF_DAMAGE                0\n",
      "VEHICLE_COLOUR_1               0\n",
      "TRAFFIC_CONTROL                0\n",
      "TRAFFIC_CONTROL_DESC           0\n",
      "ACCIDENT_DATE                  0\n",
      "ACCIDENT_TIME                  0\n",
      "ACCIDENT_TYPE                  0\n",
      "ACCIDENT_TYPE_DESC             0\n",
      "DAY_OF_WEEK                    0\n",
      "TOWED_AWAY_FLAG                0\n",
      "DAY_WEEK_DESC                  0\n",
      "DCA_CODE                       0\n",
      "LIGHT_CONDITION                0\n",
      "DCA_DESC                       0\n",
      "NO_OF_VEHICLES                 0\n",
      "NO_PERSONS_KILLED              0\n",
      "NO_PERSONS_INJ_2               0\n",
      "NODE_ID                        0\n",
      "NO_PERSONS_INJ_3               0\n",
      "NO_PERSONS_NOT_INJ             0\n",
      "POLICE_ATTEND                  0\n",
      "NO_PERSONS                     0\n",
      "ROAD_GEOMETRY                  0\n",
      "ROAD_GEOMETRY_DESC             0\n",
      "SEVERITY                       0\n",
      "SPEED_ZONE                     0\n",
      "dtype: int64\n"
     ]
    }
   ],
   "source": [
    "# check if there is any null value\n",
    "with pd.option_context('display.max_rows', None):\n",
    "    print(merged_df.isnull().sum().sort_values(ascending=False))\n"
   ]
  },
  {
   "cell_type": "markdown",
   "id": "33fc1dec",
   "metadata": {},
   "source": [
    "continue process the data, check if there is any uneccessary features"
   ]
  },
  {
   "cell_type": "code",
   "execution_count": 120,
   "id": "0b8cea51",
   "metadata": {},
   "outputs": [],
   "source": [
    "# these features are considered to be useless with respect with training models\n",
    "drop_feature = ['ACCIDENT_NO',\n",
    "                'NODE_ID', \n",
    "                'PERSON_ID',\n",
    "                'VEHICLE_ID',\n",
    "                'ACCIDENT_TIME',\n",
    "                'VEHICLE_MODEL',\n",
    "                'VEHICLE_MAKE',\n",
    "                'VEHICLE_BODY_STYLE',\n",
    "                'DCA_CODE'\n",
    "                ]\n",
    "merged_df = merged_df.drop(columns=drop_feature)\n"
   ]
  },
  {
   "cell_type": "code",
   "execution_count": 121,
   "id": "8b6bb7ba",
   "metadata": {},
   "outputs": [
    {
     "name": "stdout",
     "output_type": "stream",
     "text": [
      "SEX                          3\n",
      "AGE_GROUP                   14\n",
      "INJ_LEVEL                    4\n",
      "INJ_LEVEL_DESC               4\n",
      "SEATING_POSITION             9\n",
      "HELMET_BELT_WORN             9\n",
      "ROAD_USER_TYPE               8\n",
      "ROAD_USER_TYPE_DESC          6\n",
      "LICENCE_STATE               11\n",
      "TAKEN_HOSPITAL               2\n",
      "EJECTED_CODE                 5\n",
      "VEHICLE_YEAR_MANUF          64\n",
      "VEHICLE_DCA_CODE             4\n",
      "INITIAL_DIRECTION            9\n",
      "ROAD_SURFACE_TYPE            4\n",
      "ROAD_SURFACE_TYPE_DESC       4\n",
      "REG_STATE                    7\n",
      "VEHICLE_POWER                0\n",
      "VEHICLE_TYPE                22\n",
      "VEHICLE_TYPE_DESC           22\n",
      "VEHICLE_WEIGHT            1208\n",
      "CONSTRUCTION_TYPE            3\n",
      "FUEL_TYPE                    8\n",
      "NO_OF_WHEELS                10\n",
      "NO_OF_CYLINDERS             24\n",
      "SEATING_CAPACITY            61\n",
      "TARE_WEIGHT               3676\n",
      "TOTAL_NO_OCCUPANTS          40\n",
      "CARRY_CAPACITY            3201\n",
      "CUBIC_CAPACITY              99\n",
      "FINAL_DIRECTION              9\n",
      "DRIVER_INTENT               20\n",
      "VEHICLE_MOVEMENT            20\n",
      "TRAILER_TYPE                12\n",
      "VEHICLE_COLOUR_1            18\n",
      "VEHICLE_COLOUR_2            17\n",
      "CAUGHT_FIRE                  4\n",
      "INITIAL_IMPACT              17\n",
      "LAMPS                        4\n",
      "LEVEL_OF_DAMAGE              7\n",
      "TOWED_AWAY_FLAG              3\n",
      "TRAFFIC_CONTROL             17\n",
      "TRAFFIC_CONTROL_DESC        17\n",
      "ACCIDENT_DATE             4565\n",
      "ACCIDENT_TYPE                9\n",
      "ACCIDENT_TYPE_DESC           9\n",
      "DAY_OF_WEEK                  8\n",
      "DAY_WEEK_DESC                7\n",
      "DCA_DESC                    81\n",
      "LIGHT_CONDITION              7\n",
      "NO_OF_VEHICLES              17\n",
      "NO_PERSONS_KILLED            6\n",
      "NO_PERSONS_INJ_2            13\n",
      "NO_PERSONS_INJ_3            23\n",
      "NO_PERSONS_NOT_INJ          39\n",
      "NO_PERSONS                  45\n",
      "POLICE_ATTEND                3\n",
      "ROAD_GEOMETRY                9\n",
      "ROAD_GEOMETRY_DESC           9\n",
      "SEVERITY                     4\n",
      "SPEED_ZONE                  13\n",
      "RMA                          5\n",
      "dtype: int64\n"
     ]
    }
   ],
   "source": [
    "# lets see if theres some features that is categorical\n",
    "with pd.option_context('display.max_rows', None):\n",
    "    print(merged_df.nunique())"
   ]
  },
  {
   "cell_type": "markdown",
   "id": "37d1c8b2",
   "metadata": {},
   "source": [
    "it seems that there are some features that worth using one-hot to catagorise"
   ]
  },
  {
   "cell_type": "markdown",
   "id": "bc741c2a",
   "metadata": {},
   "source": [
    "first, there are some duplicated data that pairs with their description. to one hot these data, i will drop the desc features and keep others, since they represents the same thing. "
   ]
  },
  {
   "cell_type": "code",
   "execution_count": 122,
   "id": "d8c054b1",
   "metadata": {},
   "outputs": [],
   "source": [
    "def drop_and_report_desc_fields(df):\n",
    "    desc_cols = [col for col in df.columns if col.endswith('_DESC')]\n",
    "    for col in desc_cols:\n",
    "        print(f\" - {col}\")\n",
    "    return df.drop(columns=desc_cols)"
   ]
  },
  {
   "cell_type": "code",
   "execution_count": 123,
   "id": "938975df",
   "metadata": {},
   "outputs": [
    {
     "name": "stdout",
     "output_type": "stream",
     "text": [
      " - INJ_LEVEL_DESC\n",
      " - ROAD_USER_TYPE_DESC\n",
      " - ROAD_SURFACE_TYPE_DESC\n",
      " - VEHICLE_TYPE_DESC\n",
      " - TRAFFIC_CONTROL_DESC\n",
      " - ACCIDENT_TYPE_DESC\n",
      " - DAY_WEEK_DESC\n",
      " - DCA_DESC\n",
      " - ROAD_GEOMETRY_DESC\n"
     ]
    }
   ],
   "source": [
    "merged_df = drop_and_report_desc_fields(merged_df)"
   ]
  },
  {
   "cell_type": "code",
   "execution_count": 124,
   "id": "b80c8d2b",
   "metadata": {},
   "outputs": [
    {
     "name": "stdout",
     "output_type": "stream",
     "text": [
      "SEX: ['M' 'F' 'U']\n",
      "AGE_GROUP: ['40-49' '26-29' '18-21' '16-17' '22-25']\n",
      "INJ_LEVEL: [3 4 2 1]\n",
      "SEATING_POSITION: ['D' 'LF' 'OR' 'NK' 'RR']\n",
      "HELMET_BELT_WORN: [9. 1. 8. 2. 3.]\n",
      "ROAD_USER_TYPE: [2 3 9 7 1]\n",
      "LICENCE_STATE: ['V' 'Z' 'O' 'W' 'D']\n",
      "TAKEN_HOSPITAL: ['N' 'Y']\n",
      "EJECTED_CODE: [0. 9. 1. 3. 2.]\n",
      "VEHICLE_YEAR_MANUF: [2016. 2008. 2012. 2009. 1994.]\n",
      "VEHICLE_DCA_CODE: [1. 2. 8. 3.]\n",
      "INITIAL_DIRECTION: ['N' 'SW' 'E' 'S' 'NE']\n",
      "ROAD_SURFACE_TYPE: [1. 9. 3. 2.]\n",
      "REG_STATE: ['V' 'S' 'T' 'W' 'N']\n",
      "VEHICLE_POWER: []\n",
      "VEHICLE_TYPE: [ 1  2  4 71 61]\n",
      "VEHICLE_WEIGHT: [ 2100.  1805. 26000.  2805.  2800.]\n",
      "CONSTRUCTION_TYPE: ['R' 'P' 'A']\n",
      "FUEL_TYPE: ['M' 'P' 'D' 'G' 'E']\n",
      "NO_OF_WHEELS: [ 4.  6.  8. 12. 10.]\n",
      "NO_OF_CYLINDERS: [4. 6. 8. 5. 3.]\n",
      "SEATING_CAPACITY: [ 5.  7.  2.  3. 42.]\n",
      "TARE_WEIGHT: [1570. 1145. 1805. 1875. 1840.]\n",
      "TOTAL_NO_OCCUPANTS: [1. 2. 5. 3. 4.]\n",
      "CARRY_CAPACITY: [  530.   560. 15800.   985.  1305.]\n",
      "CUBIC_CAPACITY: [1900. 2500. 3500. 4000. 3600.]\n",
      "FINAL_DIRECTION: ['E' 'SW' 'S' 'NE' 'W']\n",
      "DRIVER_INTENT: [ 2.  1.  6. 17.  4.]\n",
      "VEHICLE_MOVEMENT: [ 2. 15.  1.  6. 17.]\n",
      "TRAILER_TYPE: ['H' 'J' 'G' 'B' 'F']\n",
      "VEHICLE_COLOUR_1: ['WHI' 'RED' 'SIL' 'BLU' 'GRY']\n",
      "VEHICLE_COLOUR_2: ['ZZ' 'OGE' 'GRY' 'SIL' 'BLK']\n",
      "CAUGHT_FIRE: [2. 9. 1. 0.]\n",
      "INITIAL_IMPACT: ['8' 'R' 'F' '1' '6']\n",
      "LAMPS: [9. 2. 1. 0.]\n",
      "LEVEL_OF_DAMAGE: [2 3 4 9 1]\n",
      "TOWED_AWAY_FLAG: [2. 1. 9.]\n",
      "TRAFFIC_CONTROL: [ 9.  0. 11.  1. 99.]\n",
      "ACCIDENT_DATE: ['2023-10-23' '2024-05-15' '2024-01-21' '2020-02-24' '2019-09-23']\n",
      "ACCIDENT_TYPE: [1 4 8 3 2]\n",
      "DAY_OF_WEEK: [2 4 1 6 3]\n",
      "LIGHT_CONDITION: [1 3 5 2 9]\n",
      "NO_OF_VEHICLES: [2 1 3 4 6]\n",
      "NO_PERSONS_KILLED: [0 1 2 4 3]\n",
      "NO_PERSONS_INJ_2: [0 1 3 2 4]\n",
      "NO_PERSONS_INJ_3: [1 2 0 5 3]\n",
      "NO_PERSONS_NOT_INJ: [1 5 2 0 3]\n",
      "NO_PERSONS: [2 3 6 1 5]\n",
      "POLICE_ATTEND: [2 1 9]\n",
      "ROAD_GEOMETRY: [1 5 2 4 3]\n",
      "SEVERITY: [3 2 1 4]\n",
      "SPEED_ZONE: [ 60 999  50 110 888]\n",
      "RMA: ['Local Road' 'Arterial Other' 'Arterial Highway' 'Freeway' 'Non Arterial']\n"
     ]
    }
   ],
   "source": [
    "# checking the new demsion of the cleaned df\n",
    "for col in merged_df.columns:\n",
    "    print(f\"{col}: {merged_df[col].dropna().unique()[:5]}\")\n"
   ]
  },
  {
   "cell_type": "markdown",
   "id": "e1c54683",
   "metadata": {},
   "source": [
    "Create a new feature, vehicle age = accident date - year of manufacture"
   ]
  },
  {
   "cell_type": "code",
   "execution_count": 125,
   "id": "16e2b9ab",
   "metadata": {},
   "outputs": [],
   "source": [
    "merged_df[\"ACCIDENT_DATE\"] = pd.to_datetime(merged_df[\"ACCIDENT_DATE\"], errors='coerce')\n",
    "\n",
    "merged_df[\"ACCIDENT_YEAR\"] = merged_df[\"ACCIDENT_DATE\"].dt.year\n",
    "\n",
    "merged_df[\"VEHICLE_AGE\"] = merged_df[\"ACCIDENT_YEAR\"] - merged_df[\"VEHICLE_YEAR_MANUF\"]"
   ]
  },
  {
   "cell_type": "code",
   "execution_count": 126,
   "id": "23ead79d",
   "metadata": {},
   "outputs": [],
   "source": [
    "drop_feature = ['VEHICLE_YEAR_MANUF',\n",
    "                'ACCIDENT_DATE',\n",
    "                'ACCIDENT_YEAR'\n",
    "                ]\n",
    "cleaned_df = merged_df.drop(columns=drop_feature)"
   ]
  },
  {
   "cell_type": "code",
   "execution_count": 127,
   "id": "242343cc",
   "metadata": {},
   "outputs": [
    {
     "data": {
      "text/plain": [
       "52"
      ]
     },
     "execution_count": 127,
     "metadata": {},
     "output_type": "execute_result"
    }
   ],
   "source": [
    "cleaned_df.shape[1]"
   ]
  },
  {
   "cell_type": "code",
   "execution_count": 128,
   "id": "cbd415bc",
   "metadata": {},
   "outputs": [
    {
     "data": {
      "text/plain": [
       "331993"
      ]
     },
     "execution_count": 128,
     "metadata": {},
     "output_type": "execute_result"
    }
   ],
   "source": [
    "len(cleaned_df)"
   ]
  },
  {
   "cell_type": "markdown",
   "id": "8c506df1",
   "metadata": {},
   "source": [
    "before one hot, i will keep a version of df for light GBM,"
   ]
  },
  {
   "cell_type": "code",
   "execution_count": 129,
   "id": "b2e28d58",
   "metadata": {},
   "outputs": [],
   "source": [
    "cleaned_df.to_csv('../merged_cleaned.csv', index=False)"
   ]
  },
  {
   "cell_type": "code",
   "execution_count": 130,
   "id": "b1b26351",
   "metadata": {},
   "outputs": [
    {
     "data": {
      "text/plain": [
       "'\\ndef one_hot_encode_expand(df, columns_to_encode, drop_first=True):\\n    df_encoded = pd.get_dummies(df, columns=columns_to_encode, drop_first=drop_first)\\n    return df_encoded\\n'"
      ]
     },
     "execution_count": 130,
     "metadata": {},
     "output_type": "execute_result"
    }
   ],
   "source": [
    "'''\n",
    "def one_hot_encode_expand(df, columns_to_encode, drop_first=True):\n",
    "    df_encoded = pd.get_dummies(df, columns=columns_to_encode, drop_first=drop_first)\n",
    "    return df_encoded\n",
    "'''\n",
    "# not suitable to expand the one hot encode, it will cause dimension expansion"
   ]
  },
  {
   "cell_type": "code",
   "execution_count": 131,
   "id": "59229fbb",
   "metadata": {},
   "outputs": [],
   "source": [
    "def one_hot_encode_vectorise(df, columns):\n",
    "    df_new = df.drop(columns=columns).copy()\n",
    "\n",
    "    for col in columns:\n",
    "        encoder = OneHotEncoder(sparse_output=False, handle_unknown='ignore')\n",
    "        encoded = encoder.fit_transform(df[[col]])\n",
    "        # save as list \n",
    "        encoded_vectors = pd.Series(list(encoded), index=df.index)\n",
    "        # name the new features as col + '_vec'\n",
    "        df_new[col + '_vec'] = encoded_vectors\n",
    "    return df_new\n"
   ]
  },
  {
   "cell_type": "code",
   "execution_count": 132,
   "id": "7e03d7d9",
   "metadata": {},
   "outputs": [
    {
     "name": "stdout",
     "output_type": "stream",
     "text": [
      "SEX                      3\n",
      "AGE_GROUP               14\n",
      "INJ_LEVEL                4\n",
      "SEATING_POSITION         9\n",
      "HELMET_BELT_WORN         9\n",
      "ROAD_USER_TYPE           8\n",
      "LICENCE_STATE           11\n",
      "TAKEN_HOSPITAL           2\n",
      "EJECTED_CODE             5\n",
      "VEHICLE_DCA_CODE         4\n",
      "INITIAL_DIRECTION        9\n",
      "ROAD_SURFACE_TYPE        4\n",
      "REG_STATE                7\n",
      "VEHICLE_POWER            0\n",
      "VEHICLE_TYPE            22\n",
      "VEHICLE_WEIGHT        1208\n",
      "CONSTRUCTION_TYPE        3\n",
      "FUEL_TYPE                8\n",
      "NO_OF_WHEELS            10\n",
      "NO_OF_CYLINDERS         24\n",
      "SEATING_CAPACITY        61\n",
      "TARE_WEIGHT           3676\n",
      "TOTAL_NO_OCCUPANTS      40\n",
      "CARRY_CAPACITY        3201\n",
      "CUBIC_CAPACITY          99\n",
      "FINAL_DIRECTION          9\n",
      "DRIVER_INTENT           20\n",
      "VEHICLE_MOVEMENT        20\n",
      "TRAILER_TYPE            12\n",
      "VEHICLE_COLOUR_1        18\n",
      "VEHICLE_COLOUR_2        17\n",
      "CAUGHT_FIRE              4\n",
      "INITIAL_IMPACT          17\n",
      "LAMPS                    4\n",
      "LEVEL_OF_DAMAGE          7\n",
      "TOWED_AWAY_FLAG          3\n",
      "TRAFFIC_CONTROL         17\n",
      "ACCIDENT_TYPE            9\n",
      "DAY_OF_WEEK              8\n",
      "LIGHT_CONDITION          7\n",
      "NO_OF_VEHICLES          17\n",
      "NO_PERSONS_KILLED        6\n",
      "NO_PERSONS_INJ_2        13\n",
      "NO_PERSONS_INJ_3        23\n",
      "NO_PERSONS_NOT_INJ      39\n",
      "NO_PERSONS              45\n",
      "POLICE_ATTEND            3\n",
      "ROAD_GEOMETRY            9\n",
      "SEVERITY                 4\n",
      "SPEED_ZONE              13\n",
      "RMA                      5\n",
      "VEHICLE_AGE             61\n",
      "dtype: int64\n"
     ]
    }
   ],
   "source": [
    "# lets see if theres some features that is categorical\n",
    "with pd.option_context('display.max_rows', None):\n",
    "    print(cleaned_df.nunique())"
   ]
  },
  {
   "cell_type": "code",
   "execution_count": 133,
   "id": "b70e2ac7",
   "metadata": {},
   "outputs": [],
   "source": [
    "one_hot_columns = [\n",
    "    'SEX', 'AGE_GROUP', 'INJ_LEVEL', 'SEATING_POSITION', 'HELMET_BELT_WORN',\n",
    "    'ROAD_USER_TYPE', 'LICENCE_STATE', 'TAKEN_HOSPITAL', 'EJECTED_CODE',\n",
    "    'VEHICLE_DCA_CODE', 'INITIAL_DIRECTION', 'ROAD_SURFACE_TYPE',\n",
    "    'REG_STATE', 'VEHICLE_TYPE', 'CONSTRUCTION_TYPE',\n",
    "    'FUEL_TYPE', 'FINAL_DIRECTION', 'TRAILER_TYPE', 'VEHICLE_COLOUR_1',\n",
    "    'VEHICLE_COLOUR_2', 'INITIAL_IMPACT', 'LEVEL_OF_DAMAGE', 'TOWED_AWAY_FLAG',\n",
    "    'TRAFFIC_CONTROL', 'ACCIDENT_TYPE', 'DAY_OF_WEEK',\n",
    "    'LIGHT_CONDITION', 'POLICE_ATTEND', 'ROAD_GEOMETRY', 'RMA'\n",
    "]\n"
   ]
  },
  {
   "cell_type": "code",
   "execution_count": 134,
   "id": "38af421d",
   "metadata": {},
   "outputs": [],
   "source": [
    "# each one hot one hot category is encoded as a new feature, as result, there is 518 features\n",
    "# merged_onehot_df = one_hot_encode_expand(cleaned_df, one_hot_columns)\n",
    "\n",
    "# vectorised one hot df, still 56 features, ready for neuron networking\n",
    "# merged_onehot_df = one_hot_encode_vectorise(cleaned_df, one_hot_columns)\n"
   ]
  },
  {
   "cell_type": "code",
   "execution_count": 135,
   "id": "671e2310",
   "metadata": {},
   "outputs": [],
   "source": [
    "merged_onehot_df = pd.get_dummies(cleaned_df, columns=one_hot_columns, dummy_na=False)"
   ]
  },
  {
   "cell_type": "code",
   "execution_count": 136,
   "id": "18354586",
   "metadata": {},
   "outputs": [
    {
     "data": {
      "text/plain": [
       "331993"
      ]
     },
     "execution_count": 136,
     "metadata": {},
     "output_type": "execute_result"
    }
   ],
   "source": [
    "len(merged_onehot_df)"
   ]
  },
  {
   "cell_type": "markdown",
   "id": "868b6a55",
   "metadata": {},
   "source": [
    "Now, since MLP is very sensitive to N/A values and range of the data, i will fill N/A and normalize the data."
   ]
  },
  {
   "cell_type": "code",
   "execution_count": 137,
   "id": "c5089aba",
   "metadata": {},
   "outputs": [],
   "source": [
    "def missing_value_summary(df):\n",
    "    total = df.isnull().sum()\n",
    "    percent = (total / len(df)) * 100\n",
    "    missing_df = pd.DataFrame({'Missing Count': total, 'Missing Percentage': percent})\n",
    "    missing_df = missing_df[missing_df['Missing Count'] > 0]\n",
    "    missing_df = missing_df.sort_values(by='Missing Percentage', ascending=False)\n",
    "    return missing_df\n"
   ]
  },
  {
   "cell_type": "code",
   "execution_count": 138,
   "id": "5fe584b7",
   "metadata": {},
   "outputs": [
    {
     "name": "stdout",
     "output_type": "stream",
     "text": [
      "                  Missing Count  Missing Percentage\n",
      "VEHICLE_POWER            331993          100.000000\n",
      "CUBIC_CAPACITY           302305           91.057643\n",
      "VEHICLE_WEIGHT           282216           85.006612\n",
      "CARRY_CAPACITY           282211           85.005106\n",
      "VEHICLE_AGE                   8            0.002410\n",
      "VEHICLE_MOVEMENT              1            0.000301\n"
     ]
    }
   ],
   "source": [
    "missing_report = missing_value_summary(merged_onehot_df)\n",
    "print(missing_report)\n"
   ]
  },
  {
   "cell_type": "markdown",
   "id": "15c36e13",
   "metadata": {},
   "source": [
    "wow, a very high percentage of some of theses data are missing, then it is necessary to drop them"
   ]
  },
  {
   "cell_type": "code",
   "execution_count": 139,
   "id": "ff10f49f",
   "metadata": {},
   "outputs": [],
   "source": [
    "merged_onehot_df = merged_onehot_df.drop(columns=[\"VEHICLE_POWER\", \"CUBIC_CAPACITY\", \"VEHICLE_WEIGHT\", \"CARRY_CAPACITY\"])"
   ]
  },
  {
   "cell_type": "markdown",
   "id": "eddaad50",
   "metadata": {},
   "source": [
    "for the other 2, lemme just fill in median\n"
   ]
  },
  {
   "cell_type": "code",
   "execution_count": 140,
   "id": "b960ccdb",
   "metadata": {},
   "outputs": [],
   "source": [
    "for col in [\"VEHICLE_MOVEMENT\", 'VEHICLE_AGE']:\n",
    "    median_val = merged_onehot_df[col].median()\n",
    "    merged_onehot_df[col] = merged_onehot_df[col].fillna(median_val)\n"
   ]
  },
  {
   "cell_type": "code",
   "execution_count": null,
   "id": "4660bb7f",
   "metadata": {},
   "outputs": [
    {
     "data": {
      "text/plain": [
       "280"
      ]
     },
     "execution_count": 141,
     "metadata": {},
     "output_type": "execute_result"
    }
   ],
   "source": [
    "one_hot_columns = [col for col in merged_onehot_df.columns if col.endswith('_vec')]\n",
    "\n",
    "non_onehot_cols = [col for col in merged_onehot_df.columns if col not in one_hot_columns + ['SEVERITY']]\n",
    "\n",
    "len(non_onehot_cols)"
   ]
  },
  {
   "cell_type": "markdown",
   "id": "9da1da9f",
   "metadata": {},
   "source": [
    "At last, standardise the numeric data"
   ]
  },
  {
   "cell_type": "code",
   "execution_count": 142,
   "id": "fa815602",
   "metadata": {},
   "outputs": [],
   "source": [
    "scaler = StandardScaler()\n",
    "merged_onehot_df[non_onehot_cols] = scaler.fit_transform(merged_onehot_df[non_onehot_cols])"
   ]
  },
  {
   "cell_type": "code",
   "execution_count": 143,
   "id": "b6d56969",
   "metadata": {},
   "outputs": [],
   "source": [
    "merged_onehot_df.to_csv(\"../merged_onehot.csv\")\n"
   ]
  },
  {
   "cell_type": "code",
   "execution_count": null,
   "id": "400bd089",
   "metadata": {},
   "outputs": [],
   "source": []
  }
 ],
 "metadata": {
  "kernelspec": {
   "display_name": "base",
   "language": "python",
   "name": "python3"
  },
  "language_info": {
   "codemirror_mode": {
    "name": "ipython",
    "version": 3
   },
   "file_extension": ".py",
   "mimetype": "text/x-python",
   "name": "python",
   "nbconvert_exporter": "python",
   "pygments_lexer": "ipython3",
   "version": "3.12.3"
  }
 },
 "nbformat": 4,
 "nbformat_minor": 5
}
