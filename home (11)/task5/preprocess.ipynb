{
 "cells": [
  {
   "cell_type": "code",
   "execution_count": 217,
   "id": "18be42c9",
   "metadata": {},
   "outputs": [
    {
     "name": "stdout",
     "output_type": "stream",
     "text": [
      "Requirement already satisfied: scikit-learn in c:\\users\\minec\\miniconda3\\lib\\site-packages (1.6.1)\n",
      "Requirement already satisfied: numpy>=1.19.5 in c:\\users\\minec\\miniconda3\\lib\\site-packages (from scikit-learn) (2.2.4)\n",
      "Requirement already satisfied: scipy>=1.6.0 in c:\\users\\minec\\miniconda3\\lib\\site-packages (from scikit-learn) (1.15.3)\n",
      "Requirement already satisfied: joblib>=1.2.0 in c:\\users\\minec\\miniconda3\\lib\\site-packages (from scikit-learn) (1.5.0)\n",
      "Requirement already satisfied: threadpoolctl>=3.1.0 in c:\\users\\minec\\miniconda3\\lib\\site-packages (from scikit-learn) (3.6.0)\n"
     ]
    }
   ],
   "source": [
    "!pip install scikit-learn"
   ]
  },
  {
   "cell_type": "code",
<<<<<<< HEAD
   "execution_count": 218,
=======
   "execution_count": 128,
>>>>>>> parent of 15f038d (把merge后的数据转为csv了)
   "id": "e3237bb0",
   "metadata": {},
   "outputs": [],
   "source": [
    "import pandas as pd\n",
    "import matplotlib.pyplot as plt\n",
    "import pandas as pd\n",
    "import numpy as np\n",
    "import matplotlib.pyplot as plt\n",
    "import seaborn as sns\n",
    "from sklearn.preprocessing import OneHotEncoder\n",
    "\n",
    "\n",
    "accident_df = pd.read_csv('../accident.csv')\n",
    "#vehicle_df = pd.read_csv('../vehicle.csv')\n",
    "filtered_vehicle_df = pd.read_csv('../filtered_vehicle.csv')\n",
    "person_df = pd.read_csv('../person.csv')\n",
    "\n",
    "#merged_df = pd.merge(accident_df, filtered_vehicle_df, on='ACCIDENT_NO', how='inner')\n",
    "#merged_df = pd.merge(merged_df, person_df, on='ACCIDENT_NO', how='inner')\n",
    "\n",
    "vp_merge = pd.merge(\n",
    "    filtered_vehicle_df,\n",
    "    person_df,\n",
    "    on=['ACCIDENT_NO', 'VEHICLE_ID'],  \n",
    "    how='inner'\n",
    ")\n",
    "\n",
    "final_df = pd.merge(\n",
    "    vp_merge,\n",
    "    accident_df,\n",
    "    on='ACCIDENT_NO',\n",
    "    how='inner'\n",
    ")\n"
   ]
  },
  {
   "cell_type": "markdown",
   "id": "2b847498",
   "metadata": {},
   "source": [
    "Lets first look at the dimension of the data"
   ]
  },
  {
   "cell_type": "code",
<<<<<<< HEAD
   "execution_count": 219,
=======
   "execution_count": 129,
>>>>>>> parent of 15f038d (把merge后的数据转为csv了)
   "id": "9af5d187",
   "metadata": {},
   "outputs": [
    {
     "name": "stdout",
     "output_type": "stream",
     "text": [
      "ACCIDENT_NO: ['T20120000046' 'T20120000062' 'T20120000009' 'T20120000059'\n",
      " 'T20120000056']\n",
      "ACCIDENT_DATE: ['2012-01-01' '2012-01-02' '2012-01-03' '2012-01-04' '2012-01-05']\n",
      "ACCIDENT_TIME: ['16:25:00' '18:00:00' '02:25:00' '18:05:00' '16:15:00']\n",
      "ACCIDENT_TYPE: [2 4 1 6 8]\n",
      "ACCIDENT_TYPE_DESC: ['Struck Pedestrian' 'Collision with a fixed object'\n",
      " 'Collision with vehicle' 'Vehicle overturned (no collision)'\n",
      " 'No collision and no object struck']\n",
      "DAY_OF_WEEK: [1 2 3 4 5]\n",
      "DAY_WEEK_DESC: ['Sunday' 'Monday' 'Tuesday' 'Wednesday' 'Thursday']\n",
      "DCA_CODE: [102 173 171 183 116]\n",
      "DCA_DESC: ['FAR SIDE. PED HIT BY VEHICLE FROM THE LEFT'\n",
      " 'RIGHT OFF CARRIAGEWAY INTO OBJECT/PARKED VEHICLE'\n",
      " 'LEFT OFF CARRIAGEWAY INTO OBJECT/PARKED VEHICLE'\n",
      " 'OFF LEFT BEND INTO OBJECT/PARKED VEHICLE'\n",
      " 'LEFT NEAR (INTERSECTIONS ONLY)']\n",
      "LIGHT_CONDITION: [1 5 3 2 9]\n",
      "NO_OF_VEHICLES: [ 1  2  3 13  4]\n",
      "NO_PERSONS_KILLED: [0 1 2 3 5]\n",
      "NO_PERSONS_INJ_2: [0 1 2 3 4]\n",
      "NO_PERSONS_INJ_3: [1 0 2 4 3]\n",
      "NO_PERSONS_NOT_INJ: [1 0 4 2 5]\n",
      "NO_PERSONS: [ 2  1  7  3 10]\n",
      "POLICE_ATTEND: [1 2 9]\n",
      "ROAD_GEOMETRY: [2 5 1 4 9]\n",
      "ROAD_GEOMETRY_DESC: ['T intersection' 'Not at intersection' 'Cross intersection'\n",
      " 'Multiple intersection' 'Unknown']\n",
      "SEVERITY: [3 2 1 4]\n",
      "SPEED_ZONE: [ 60 100  80  50  70]\n",
      "RMA: ['Arterial Other' 'Arterial Highway' 'Local Road' 'Freeway' 'Non Arterial']\n",
      "VEHICLE_ID_x: ['A' 'B' 'C' 'D' 'E']\n",
      "VEHICLE_YEAR_MANUF: [2001. 2010. 1996. 1991. 1997.]\n",
      "VEHICLE_DCA_CODE: [1. 2. 8. 3.]\n",
      "INITIAL_DIRECTION: ['E' 'N' 'NW' 'S' 'SE']\n",
      "ROAD_SURFACE_TYPE: [1. 3. 2. 9.]\n",
      "ROAD_SURFACE_TYPE_DESC: ['Paved' 'Gravel' 'Unpaved' 'Not known']\n",
      "REG_STATE: ['V' 'S' 'N' 'A' 'W']\n",
      "VEHICLE_BODY_STYLE: ['WAGON' 'TRAY' 'SEDAN' 'S WAG' 'DC UTE']\n",
      "VEHICLE_MAKE: ['HOLDEN' 'TOYOTA' 'DAEWOO' 'FORD' 'SUBARU']\n",
      "VEHICLE_MODEL: ['JACKAR' 'LANDCR' 'ACCLAI' 'CAMRY' 'ESPERO']\n",
      "VEHICLE_POWER: []\n",
      "VEHICLE_TYPE: [2 4 1 3 5]\n",
      "VEHICLE_TYPE_DESC: ['Station Wagon' 'Utility' 'Car' 'Taxi' 'Panel Van']\n",
      "VEHICLE_WEIGHT: [3260. 2900. 1450. 2780. 2800.]\n",
      "CONSTRUCTION_TYPE: ['R' 'P' 'A']\n",
      "FUEL_TYPE: ['M' 'D' 'P' 'G' 'E']\n",
      "NO_OF_WHEELS: [ 4.  6. 10.  8.  2.]\n",
      "NO_OF_CYLINDERS: [6. 8. 4. 5. 3.]\n",
      "SEATING_CAPACITY: [7. 3. 5. 8. 4.]\n",
      "TARE_WEIGHT: [1350. 2100. 1200. 1050. 1550.]\n",
      "TOTAL_NO_OCCUPANTS: [1. 2. 3. 4. 0.]\n",
      "CARRY_CAPACITY: [ 672. 1171.  300.  945. 1135.]\n",
      "CUBIC_CAPACITY: [3800. 4200. 5400. 3000. 3600.]\n",
      "FINAL_DIRECTION: ['E' 'N' 'NW' 'S' 'SW']\n",
      "DRIVER_INTENT: [ 1.  2.  3.  6. 11.]\n",
      "VEHICLE_MOVEMENT: [ 1. 18.  2.  3. 19.]\n",
      "TRAILER_TYPE: ['H' 'B' 'A' 'E' 'G']\n",
      "VEHICLE_COLOUR_1: ['WHI' 'GRN' 'BLU' 'GRY' 'SIL']\n",
      "VEHICLE_COLOUR_2: ['ZZ' 'WHI' 'MRN' 'SIL' 'GRN']\n",
      "CAUGHT_FIRE: [2. 1. 0. 9.]\n",
      "INITIAL_IMPACT: ['F' '1' 'T' '8' '6']\n",
      "LAMPS: [2. 1. 9. 0.]\n",
      "LEVEL_OF_DAMAGE: [1 5 4 2 3]\n",
      "TOWED_AWAY_FLAG: [2. 1. 9.]\n",
      "TRAFFIC_CONTROL: [ 0.  1. 11. 10. 99.]\n",
      "TRAFFIC_CONTROL_DESC: ['No control' 'Stop-go lights' 'Giveway sign' 'Stop sign' 'Unknown']\n",
      "PERSON_ID: ['01' 'A' 'B' '02' '03']\n",
      "VEHICLE_ID_y: ['A' 'B' 'C' 'G' 'D']\n",
      "SEX: ['F' 'M' 'U']\n",
      "AGE_GROUP: ['40-49' '60-64' '18-21' '50-59' '30-39']\n",
      "INJ_LEVEL: [3 4 2 1]\n",
      "INJ_LEVEL_DESC: ['Other injury' 'Not injured' 'Serious injury' 'Fatality']\n",
      "SEATING_POSITION: ['D' 'LF' 'LR' 'RR' 'CF']\n",
      "HELMET_BELT_WORN: [8. 1. 9. 2. 4.]\n",
      "ROAD_USER_TYPE: [1 2 3 4 6]\n",
      "ROAD_USER_TYPE_DESC: ['Pedestrians' 'Drivers' 'Passengers' 'Motorcyclists' 'Bicyclists']\n",
      "LICENCE_STATE: ['V' 'Z' 'N' 'O' 'Q']\n",
      "TAKEN_HOSPITAL: ['Y' 'N']\n",
      "EJECTED_CODE: [0. 1. 2. 3. 9.]\n"
     ]
    }
   ],
   "source": [
    "for col in merged_df.columns:\n",
    "    print(f\"{col}: {merged_df[col].dropna().unique()[:5]}\")\n"
   ]
  },
  {
   "cell_type": "code",
<<<<<<< HEAD
   "execution_count": 220,
=======
   "execution_count": 130,
>>>>>>> parent of 15f038d (把merge后的数据转为csv了)
   "id": "ba1a85d7",
   "metadata": {},
   "outputs": [
    {
     "data": {
      "text/plain": [
       "71"
      ]
     },
<<<<<<< HEAD
     "execution_count": 220,
=======
     "execution_count": 130,
>>>>>>> parent of 15f038d (把merge后的数据转为csv了)
     "metadata": {},
     "output_type": "execute_result"
    }
   ],
   "source": [
    "merged_df.shape[1]"
   ]
  },
  {
<<<<<<< HEAD
   "cell_type": "code",
   "execution_count": 221,
   "id": "fe9f2925",
   "metadata": {},
   "outputs": [
    {
     "data": {
      "text/plain": [
       "331993"
      ]
     },
     "execution_count": 221,
     "metadata": {},
     "output_type": "execute_result"
    }
   ],
=======
   "cell_type": "markdown",
   "id": "a596f4c9",
   "metadata": {},
>>>>>>> parent of 15f038d (把merge后的数据转为csv了)
   "source": [
    "71 features"
   ]
  },
  {
   "cell_type": "code",
<<<<<<< HEAD
   "execution_count": 222,
=======
   "execution_count": null,
   "id": "fe9f2925",
   "metadata": {},
   "outputs": [],
   "source": []
  },
  {
   "cell_type": "code",
   "execution_count": 131,
>>>>>>> parent of 15f038d (把merge后的数据转为csv了)
   "id": "44b61e57",
   "metadata": {},
   "outputs": [
    {
     "name": "stdout",
     "output_type": "stream",
     "text": [
      "VEHICLE_POWER             728905\n",
      "CUBIC_CAPACITY            665709\n",
      "VEHICLE_WEIGHT            617479\n",
      "CARRY_CAPACITY            617474\n",
      "TAKEN_HOSPITAL            508074\n",
      "LICENCE_STATE             175374\n",
      "EJECTED_CODE               53965\n",
      "RMA                        24889\n",
      "SEATING_POSITION           14855\n",
      "VEHICLE_ID_y               14837\n",
      "VEHICLE_MODEL               5317\n",
      "VEHICLE_DCA_CODE            2605\n",
      "CONSTRUCTION_TYPE           1486\n",
      "INITIAL_IMPACT               413\n",
      "VEHICLE_BODY_STYLE           151\n",
      "SEX                           52\n",
      "TRAILER_TYPE                  29\n",
      "VEHICLE_YEAR_MANUF            14\n",
      "VEHICLE_COLOUR_2               5\n",
      "VEHICLE_MOVEMENT               4\n",
      "HELMET_BELT_WORN               2\n",
      "ACCIDENT_NO                    0\n",
      "ACCIDENT_DATE                  0\n",
      "DAY_WEEK_DESC                  0\n",
      "DAY_OF_WEEK                    0\n",
      "ACCIDENT_TYPE_DESC             0\n",
      "ACCIDENT_TYPE                  0\n",
      "ACCIDENT_TIME                  0\n",
      "VEHICLE_ID_x                   0\n",
      "SEVERITY                       0\n",
      "SPEED_ZONE                     0\n",
      "NO_PERSONS_NOT_INJ             0\n",
      "DCA_CODE                       0\n",
      "LIGHT_CONDITION                0\n",
      "DCA_DESC                       0\n",
      "NO_PERSONS_KILLED              0\n",
      "NO_PERSONS_INJ_2               0\n",
      "NO_PERSONS_INJ_3               0\n",
      "NO_OF_VEHICLES                 0\n",
      "NO_OF_WHEELS                   0\n",
      "FUEL_TYPE                      0\n",
      "VEHICLE_TYPE                   0\n",
      "VEHICLE_TYPE_DESC              0\n",
      "ROAD_SURFACE_TYPE              0\n",
      "ROAD_SURFACE_TYPE_DESC         0\n",
      "REG_STATE                      0\n",
      "VEHICLE_MAKE                   0\n",
      "INITIAL_DIRECTION              0\n",
      "NO_PERSONS                     0\n",
      "ROAD_GEOMETRY                  0\n",
      "POLICE_ATTEND                  0\n",
      "ROAD_GEOMETRY_DESC             0\n",
      "DRIVER_INTENT                  0\n",
      "NO_OF_CYLINDERS                0\n",
      "SEATING_CAPACITY               0\n",
      "LEVEL_OF_DAMAGE                0\n",
      "LAMPS                          0\n",
      "CAUGHT_FIRE                    0\n",
      "VEHICLE_COLOUR_1               0\n",
      "TOTAL_NO_OCCUPANTS             0\n",
      "TARE_WEIGHT                    0\n",
      "FINAL_DIRECTION                0\n",
      "TOWED_AWAY_FLAG                0\n",
      "INJ_LEVEL                      0\n",
      "AGE_GROUP                      0\n",
      "TRAFFIC_CONTROL_DESC           0\n",
      "PERSON_ID                      0\n",
      "TRAFFIC_CONTROL                0\n",
      "INJ_LEVEL_DESC                 0\n",
      "ROAD_USER_TYPE                 0\n",
      "ROAD_USER_TYPE_DESC            0\n",
      "dtype: int64\n"
     ]
    }
   ],
   "source": [
    "with pd.option_context('display.max_rows', None):\n",
    "    print(merged_df.isnull().sum().sort_values(ascending=False))\n"
   ]
  },
  {
   "cell_type": "markdown",
   "id": "33fc1dec",
   "metadata": {},
   "source": [
    "continue process the data, check if there is any uneccessary features"
   ]
  },
  {
   "cell_type": "code",
<<<<<<< HEAD
   "execution_count": null,
=======
   "execution_count": 133,
>>>>>>> parent of 15f038d (把merge后的数据转为csv了)
   "id": "0b8cea51",
   "metadata": {},
   "outputs": [],
   "source": [
    "# these features are considered to be useless with respect with training models\n",
    "drop_feature = ['ACCIDENT_NO',\n",
    "                'NODE_ID', \n",
    "                'PERSON_ID',\n",
    "                'VEHICLE_ID',\n",
    "                'ACCIDENT_TIME',\n",
    "                'ACCIDENT_DATE',  # although date can potentially categorise into season or month, but the model dont need it in this case.\n",
    "                'VEHICLE_MODEL',\n",
    "                'VEHICLE_MAKE'\n",
    "                ]\n",
    "merged_df = merged_df.drop(columns=drop_feature)\n"
   ]
  },
  {
   "cell_type": "code",
<<<<<<< HEAD
   "execution_count": 224,
=======
   "execution_count": 134,
>>>>>>> parent of 15f038d (把merge后的数据转为csv了)
   "id": "8b6bb7ba",
   "metadata": {},
   "outputs": [
    {
     "name": "stdout",
     "output_type": "stream",
     "text": [
<<<<<<< HEAD
      "SEX                          3\n",
      "AGE_GROUP                   14\n",
      "INJ_LEVEL                    4\n",
      "INJ_LEVEL_DESC               4\n",
      "SEATING_POSITION             9\n",
      "HELMET_BELT_WORN             9\n",
      "ROAD_USER_TYPE               8\n",
      "ROAD_USER_TYPE_DESC          6\n",
      "LICENCE_STATE               11\n",
      "TAKEN_HOSPITAL               2\n",
      "EJECTED_CODE                 5\n",
      "VEHICLE_YEAR_MANUF          64\n",
      "VEHICLE_DCA_CODE             4\n",
      "INITIAL_DIRECTION            9\n",
      "ROAD_SURFACE_TYPE            4\n",
      "ROAD_SURFACE_TYPE_DESC       4\n",
      "REG_STATE                    7\n",
      "VEHICLE_BODY_STYLE          87\n",
      "VEHICLE_POWER                0\n",
      "VEHICLE_TYPE                22\n",
      "VEHICLE_TYPE_DESC           22\n",
      "VEHICLE_WEIGHT            1208\n",
      "CONSTRUCTION_TYPE            3\n",
      "FUEL_TYPE                    8\n",
      "NO_OF_WHEELS                10\n",
      "NO_OF_CYLINDERS             24\n",
      "SEATING_CAPACITY            61\n",
      "TARE_WEIGHT               3676\n",
      "TOTAL_NO_OCCUPANTS          40\n",
      "CARRY_CAPACITY            3201\n",
      "CUBIC_CAPACITY              99\n",
      "FINAL_DIRECTION              9\n",
      "DRIVER_INTENT               20\n",
      "VEHICLE_MOVEMENT            20\n",
      "TRAILER_TYPE                12\n",
      "VEHICLE_COLOUR_1            18\n",
      "VEHICLE_COLOUR_2            17\n",
      "CAUGHT_FIRE                  4\n",
      "INITIAL_IMPACT              17\n",
      "LAMPS                        4\n",
      "LEVEL_OF_DAMAGE              7\n",
      "TOWED_AWAY_FLAG              3\n",
      "TRAFFIC_CONTROL             17\n",
      "TRAFFIC_CONTROL_DESC        17\n",
      "ACCIDENT_TYPE                9\n",
      "ACCIDENT_TYPE_DESC           9\n",
      "DAY_OF_WEEK                  8\n",
      "DAY_WEEK_DESC                7\n",
      "DCA_CODE                    81\n",
      "DCA_DESC                    81\n",
      "LIGHT_CONDITION              7\n",
      "NO_OF_VEHICLES              17\n",
      "NO_PERSONS_KILLED            6\n",
      "NO_PERSONS_INJ_2            13\n",
      "NO_PERSONS_INJ_3            23\n",
      "NO_PERSONS_NOT_INJ          39\n",
      "NO_PERSONS                  45\n",
      "POLICE_ATTEND                3\n",
      "ROAD_GEOMETRY                9\n",
      "ROAD_GEOMETRY_DESC           9\n",
      "SEVERITY                     4\n",
      "SPEED_ZONE                  13\n",
      "RMA                          5\n",
=======
      "ACCIDENT_NO               153997\n",
      "ACCIDENT_DATE               4565\n",
      "ACCIDENT_TIME               1439\n",
      "ACCIDENT_TYPE                  9\n",
      "ACCIDENT_TYPE_DESC             9\n",
      "DAY_OF_WEEK                    8\n",
      "DAY_WEEK_DESC                  7\n",
      "DCA_CODE                      81\n",
      "DCA_DESC                      81\n",
      "LIGHT_CONDITION                7\n",
      "NO_OF_VEHICLES                17\n",
      "NO_PERSONS_KILLED              6\n",
      "NO_PERSONS_INJ_2              13\n",
      "NO_PERSONS_INJ_3              23\n",
      "NO_PERSONS_NOT_INJ            39\n",
      "NO_PERSONS                    45\n",
      "POLICE_ATTEND                  3\n",
      "ROAD_GEOMETRY                  9\n",
      "ROAD_GEOMETRY_DESC             9\n",
      "SEVERITY                       4\n",
      "SPEED_ZONE                    13\n",
      "RMA                            5\n",
      "VEHICLE_ID_x                  21\n",
      "VEHICLE_YEAR_MANUF            64\n",
      "VEHICLE_DCA_CODE               4\n",
      "INITIAL_DIRECTION              9\n",
      "ROAD_SURFACE_TYPE              4\n",
      "ROAD_SURFACE_TYPE_DESC         4\n",
      "REG_STATE                      7\n",
      "VEHICLE_BODY_STYLE            88\n",
      "VEHICLE_MAKE                 238\n",
      "VEHICLE_MODEL               8325\n",
      "VEHICLE_POWER                  0\n",
      "VEHICLE_TYPE                  22\n",
      "VEHICLE_TYPE_DESC             22\n",
      "VEHICLE_WEIGHT              1224\n",
      "CONSTRUCTION_TYPE              3\n",
      "FUEL_TYPE                      8\n",
      "NO_OF_WHEELS                  10\n",
      "NO_OF_CYLINDERS               24\n",
      "SEATING_CAPACITY              61\n",
      "TARE_WEIGHT                 3707\n",
      "TOTAL_NO_OCCUPANTS            40\n",
      "CARRY_CAPACITY              3230\n",
      "CUBIC_CAPACITY               100\n",
      "FINAL_DIRECTION                9\n",
      "DRIVER_INTENT                 20\n",
      "VEHICLE_MOVEMENT              20\n",
      "TRAILER_TYPE                  12\n",
      "VEHICLE_COLOUR_1              18\n",
      "VEHICLE_COLOUR_2              17\n",
      "CAUGHT_FIRE                    4\n",
      "INITIAL_IMPACT                17\n",
      "LAMPS                          4\n",
      "LEVEL_OF_DAMAGE                7\n",
      "TOWED_AWAY_FLAG                3\n",
      "TRAFFIC_CONTROL               17\n",
      "TRAFFIC_CONTROL_DESC          17\n",
      "PERSON_ID                    116\n",
      "VEHICLE_ID_y                  21\n",
      "SEX                            3\n",
      "AGE_GROUP                     14\n",
      "INJ_LEVEL                      4\n",
      "INJ_LEVEL_DESC                 4\n",
      "SEATING_POSITION              10\n",
      "HELMET_BELT_WORN               9\n",
      "ROAD_USER_TYPE                10\n",
      "ROAD_USER_TYPE_DESC            8\n",
      "LICENCE_STATE                 11\n",
      "TAKEN_HOSPITAL                 2\n",
      "EJECTED_CODE                   5\n",
>>>>>>> parent of 15f038d (把merge后的数据转为csv了)
      "dtype: int64\n"
     ]
    }
   ],
   "source": [
    "with pd.option_context('display.max_rows', None):\n",
    "    print(merged_df.nunique())"
   ]
  },
  {
   "cell_type": "markdown",
   "id": "37d1c8b2",
   "metadata": {},
   "source": [
    "it seems that there are some features that worth using one-hot to catagorise"
   ]
  },
  {
   "cell_type": "markdown",
   "id": "bc741c2a",
   "metadata": {},
   "source": [
    "first, there are some duplicated data that pairs with their description. to one hot these data, i will drop the desc features and keep others, since they represents the same thing. "
   ]
  },
  {
   "cell_type": "code",
<<<<<<< HEAD
   "execution_count": 225,
=======
   "execution_count": 135,
>>>>>>> parent of 15f038d (把merge后的数据转为csv了)
   "id": "d8c054b1",
   "metadata": {},
   "outputs": [],
   "source": [
    "def drop_desc_keep_encoded(df):\n",
    "    cols = df.columns\n",
    "    cols_to_drop = []\n",
    "\n",
    "    for col in cols:\n",
    "        if col.endswith('_DESC'):\n",
    "            prefix = col[:-5]\n",
    "            if prefix in cols:\n",
    "                cols_to_drop.append(col)\n",
    "\n",
    "    cleaned_df = df.drop(columns=cols_to_drop)\n",
    "    return cleaned_df, cols_to_drop\n",
    "\n"
   ]
  },
  {
   "cell_type": "code",
<<<<<<< HEAD
   "execution_count": 226,
=======
   "execution_count": 136,
>>>>>>> parent of 15f038d (把merge后的数据转为csv了)
   "id": "938975df",
   "metadata": {},
   "outputs": [
    {
     "name": "stdout",
     "output_type": "stream",
     "text": [
<<<<<<< HEAD
      "Deleted description columns: ['INJ_LEVEL_DESC', 'ROAD_USER_TYPE_DESC', 'ROAD_SURFACE_TYPE_DESC', 'VEHICLE_TYPE_DESC', 'TRAFFIC_CONTROL_DESC', 'ACCIDENT_TYPE_DESC', 'ROAD_GEOMETRY_DESC']\n"
=======
      "Dropped columns: ['ACCIDENT_TYPE', 'ROAD_GEOMETRY', 'ROAD_SURFACE_TYPE', 'VEHICLE_TYPE', 'TRAFFIC_CONTROL', 'INJ_LEVEL', 'ROAD_USER_TYPE']\n"
>>>>>>> parent of 15f038d (把merge后的数据转为csv了)
     ]
    }
   ],
   "source": [
    "cleaned_df, dropped_desc_columns = drop_desc_keep_encoded(merged_df)\n",
    "print(\"Deleted description columns:\", dropped_desc_columns)"
   ]
  },
  {
   "cell_type": "code",
<<<<<<< HEAD
   "execution_count": 227,
   "id": "b80c8d2b",
   "metadata": {},
   "outputs": [
    {
     "name": "stdout",
     "output_type": "stream",
     "text": [
      "SEX: ['M' 'F' 'U']\n",
      "AGE_GROUP: ['40-49' '26-29' '18-21' '16-17' '22-25']\n",
      "INJ_LEVEL: [3 4 2 1]\n",
      "SEATING_POSITION: ['D' 'LF' 'OR' 'NK' 'RR']\n",
      "HELMET_BELT_WORN: [9. 1. 8. 2. 3.]\n",
      "ROAD_USER_TYPE: [2 3 9 7 1]\n",
      "LICENCE_STATE: ['V' 'Z' 'O' 'W' 'D']\n",
      "TAKEN_HOSPITAL: ['N' 'Y']\n",
      "EJECTED_CODE: [0. 9. 1. 3. 2.]\n",
      "VEHICLE_YEAR_MANUF: [2016. 2008. 2012. 2009. 1994.]\n",
      "VEHICLE_DCA_CODE: [1. 2. 8. 3.]\n",
      "INITIAL_DIRECTION: ['N' 'SW' 'E' 'S' 'NE']\n",
      "ROAD_SURFACE_TYPE: [1. 9. 3. 2.]\n",
      "REG_STATE: ['V' 'S' 'T' 'W' 'N']\n",
      "VEHICLE_BODY_STYLE: ['SEDAN' 'WAGON' 'S WAG' 'UTIL' 'DC UTE']\n",
      "VEHICLE_POWER: []\n",
      "VEHICLE_TYPE: [ 1  2  4 71 61]\n",
      "VEHICLE_WEIGHT: [ 2100.  1805. 26000.  2805.  2800.]\n",
      "CONSTRUCTION_TYPE: ['R' 'P' 'A']\n",
      "FUEL_TYPE: ['M' 'P' 'D' 'G' 'E']\n",
      "NO_OF_WHEELS: [ 4.  6.  8. 12. 10.]\n",
      "NO_OF_CYLINDERS: [4. 6. 8. 5. 3.]\n",
      "SEATING_CAPACITY: [ 5.  7.  2.  3. 42.]\n",
      "TARE_WEIGHT: [1570. 1145. 1805. 1875. 1840.]\n",
      "TOTAL_NO_OCCUPANTS: [1. 2. 5. 3. 4.]\n",
      "CARRY_CAPACITY: [  530.   560. 15800.   985.  1305.]\n",
      "CUBIC_CAPACITY: [1900. 2500. 3500. 4000. 3600.]\n",
      "FINAL_DIRECTION: ['E' 'SW' 'S' 'NE' 'W']\n",
      "DRIVER_INTENT: [ 2.  1.  6. 17.  4.]\n",
      "VEHICLE_MOVEMENT: [ 2. 15.  1.  6. 17.]\n",
      "TRAILER_TYPE: ['H' 'J' 'G' 'B' 'F']\n",
      "VEHICLE_COLOUR_1: ['WHI' 'RED' 'SIL' 'BLU' 'GRY']\n",
      "VEHICLE_COLOUR_2: ['ZZ' 'OGE' 'GRY' 'SIL' 'BLK']\n",
      "CAUGHT_FIRE: [2. 9. 1. 0.]\n",
      "INITIAL_IMPACT: ['8' 'R' 'F' '1' '6']\n",
      "LAMPS: [9. 2. 1. 0.]\n",
      "LEVEL_OF_DAMAGE: [2 3 4 9 1]\n",
      "TOWED_AWAY_FLAG: [2. 1. 9.]\n",
      "TRAFFIC_CONTROL: [ 9.  0. 11.  1. 99.]\n",
      "ACCIDENT_TYPE: [1 4 8 3 2]\n",
      "DAY_OF_WEEK: [2 4 1 6 3]\n",
      "DAY_WEEK_DESC: ['Monday' 'Wednesday' 'Sunday' 'Friday' 'Tuesday']\n",
      "DCA_CODE: [121 130 148 110 142]\n",
      "DCA_DESC: ['RIGHT THROUGH' 'REAR END(VEHICLES IN SAME LANE)'\n",
      " 'VEHICLE OFF FOOTPATH STRIKES VEH ON CARRIAGEWAY'\n",
      " 'CROSS TRAFFIC(INTERSECTIONS ONLY)' 'LEAVING PARKING']\n",
      "LIGHT_CONDITION: [1 3 5 2 9]\n",
      "NO_OF_VEHICLES: [2 1 3 4 6]\n",
      "NO_PERSONS_KILLED: [0 1 2 4 3]\n",
      "NO_PERSONS_INJ_2: [0 1 3 2 4]\n",
      "NO_PERSONS_INJ_3: [1 2 0 5 3]\n",
      "NO_PERSONS_NOT_INJ: [1 5 2 0 3]\n",
      "NO_PERSONS: [2 3 6 1 5]\n",
      "POLICE_ATTEND: [2 1 9]\n",
      "ROAD_GEOMETRY: [1 5 2 4 3]\n",
      "SEVERITY: [3 2 1 4]\n",
      "SPEED_ZONE: [ 60 999  50 110 888]\n",
      "RMA: ['Local Road' 'Arterial Other' 'Arterial Highway' 'Freeway' 'Non Arterial']\n"
     ]
    }
   ],
   "source": [
    "for col in cleaned_df.columns:\n",
    "    print(f\"{col}: {cleaned_df[col].dropna().unique()[:5]}\")\n"
   ]
  },
  {
   "cell_type": "code",
   "execution_count": 228,
   "id": "434f7ecf",
   "metadata": {},
   "outputs": [
    {
     "data": {
      "text/plain": [
       "56"
      ]
     },
     "execution_count": 228,
     "metadata": {},
     "output_type": "execute_result"
    }
   ],
   "source": [
    "cleaned_df.shape[1]"
   ]
  },
  {
   "cell_type": "markdown",
   "id": "8c506df1",
   "metadata": {},
   "source": [
    "before one hot, i will keep a version of df for light GBM,"
   ]
  },
  {
   "cell_type": "code",
   "execution_count": 229,
   "id": "b2e28d58",
   "metadata": {},
   "outputs": [],
   "source": [
    "cleaned_df.to_csv('../merged_cleaned.csv', index=False)"
   ]
  },
  {
   "cell_type": "code",
   "execution_count": null,
=======
   "execution_count": 137,
>>>>>>> parent of 15f038d (把merge后的数据转为csv了)
   "id": "b1b26351",
   "metadata": {},
   "outputs": [],
   "source": [
    "def one_hot_encode_expand(df, columns_to_encode, drop_first=True):\n",
    "    df_encoded = pd.get_dummies(df, columns=columns_to_encode, drop_first=drop_first)\n",
    "    return df_encoded"
   ]
  },
  {
   "cell_type": "code",
<<<<<<< HEAD
   "execution_count": null,
=======
   "execution_count": 138,
>>>>>>> parent of 15f038d (把merge后的数据转为csv了)
   "id": "59229fbb",
   "metadata": {},
   "outputs": [],
   "source": [
    "def one_hot_encode_vectorise(df, columns):\n",
    "    df_new = df.drop(columns=columns).copy()\n",
    "\n",
    "    for col in columns:\n",
    "        encoder = OneHotEncoder(sparse_output=False, handle_unknown='ignore')\n",
    "        encoded = encoder.fit_transform(df[[col]])\n",
    "        # save as list \n",
    "        encoded_vectors = pd.Series(list(encoded), index=df.index)\n",
    "        # name the new features as col + '_vec'\n",
    "        df_new[col + '_vec'] = encoded_vectors\n",
    "    return df_new\n"
   ]
  },
  {
   "cell_type": "code",
<<<<<<< HEAD
   "execution_count": null,
=======
   "execution_count": 139,
>>>>>>> parent of 15f038d (把merge后的数据转为csv了)
   "id": "b70e2ac7",
   "metadata": {},
   "outputs": [],
   "source": [
    "one_hot_columns = [\n",
    "    'ACCIDENT_TYPE_DESC',\n",
    "    'DAY_WEEK_DESC',\n",
    "    'LIGHT_CONDITION',\n",
    "    'ROAD_GEOMETRY_DESC',\n",
    "    'SPEED_ZONE',\n",
    "    'RMA',\n",
    "    'VEHICLE_TYPE_DESC',\n",
    "    'REG_STATE',\n",
    "    'FUEL_TYPE',\n",
    "    'SEX',\n",
    "    'AGE_GROUP',\n",
    "    'INJ_LEVEL_DESC',\n",
    "    'SEATING_POSITION',\n",
    "    'HELMET_BELT_WORN',\n",
    "    'ROAD_USER_TYPE_DESC',\n",
    "    'LICENCE_STATE',\n",
    "    'TRAFFIC_CONTROL_DESC',\n",
    "    'INITIAL_DIRECTION',\n",
    "    'FINAL_DIRECTION',\n",
    "    'TRAILER_TYPE',\n",
    "    'CONSTRUCTION_TYPE',\n",
    "    'CAUGHT_FIRE',\n",
    "    'TOWED_AWAY_FLAG',\n",
    "    'TAKEN_HOSPITAL'\n",
    "]\n"
   ]
  },
  {
   "cell_type": "code",
<<<<<<< HEAD
   "execution_count": null,
=======
   "execution_count": 140,
>>>>>>> parent of 15f038d (把merge后的数据转为csv了)
   "id": "38af421d",
   "metadata": {},
   "outputs": [],
   "source": [
    "# each one hot one hot category is encoded as a new feature, as result, there is 518 features\n",
    "# merged_df_onehot_expand_df = one_hot_encode_expand(desc_cleaned_merged_df, one_hot_columns)\n",
    "\n",
    "# vectorised one hot df, still 72 features, ready for neuron networking\n",
    "merged_onehot_vectorized_df = one_hot_encode_vectorise(merged_df, one_hot_columns)\n"
   ]
  },
  {
   "cell_type": "code",
<<<<<<< HEAD
   "execution_count": null,
   "id": "18354586",
=======
   "execution_count": 142,
   "id": "52765c0a",
>>>>>>> parent of 15f038d (把merge后的数据转为csv了)
   "metadata": {},
   "outputs": [
    {
     "data": {
      "text/plain": [
       "728905"
      ]
     },
     "execution_count": 142,
     "metadata": {},
     "output_type": "execute_result"
    }
   ],
   "source": [
<<<<<<< HEAD
    "merged_onehot_vectorized_df.head(1)"
=======
    "len(merged_df_onehot_vectorized_df)"
>>>>>>> parent of 15f038d (把merge后的数据转为csv了)
   ]
  },
  {
   "cell_type": "code",
   "execution_count": null,
<<<<<<< HEAD
   "id": "00e3d3fe",
   "metadata": {},
   "outputs": [],
   "source": [
    "merged_onehot_vectorized_df.to_csv('../merged_onehot_vectorized.csv', index=False)"
=======
   "id": "2fa80757",
   "metadata": {},
   "outputs": [
    {
     "ename": "KeyboardInterrupt",
     "evalue": "",
     "output_type": "error",
     "traceback": [
      "\u001b[31m---------------------------------------------------------------------------\u001b[39m",
      "\u001b[31mKeyboardInterrupt\u001b[39m                         Traceback (most recent call last)",
      "\u001b[36mCell\u001b[39m\u001b[36m \u001b[39m\u001b[32mIn[141]\u001b[39m\u001b[32m, line 1\u001b[39m\n\u001b[32m----> \u001b[39m\u001b[32m1\u001b[39m \u001b[43mmerged_df_onehot_vectorized_df\u001b[49m\u001b[43m.\u001b[49m\u001b[43mto_csv\u001b[49m\u001b[43m(\u001b[49m\u001b[33;43m'\u001b[39;49m\u001b[33;43m../merged_df_onehot_vectorized_df.csv\u001b[39;49m\u001b[33;43m'\u001b[39;49m\u001b[43m,\u001b[49m\u001b[43m \u001b[49m\u001b[43mindex\u001b[49m\u001b[43m=\u001b[49m\u001b[38;5;28;43;01mFalse\u001b[39;49;00m\u001b[43m)\u001b[49m\n",
      "\u001b[36mFile \u001b[39m\u001b[32mc:\\Users\\minec\\miniconda3\\Lib\\site-packages\\pandas\\util\\_decorators.py:333\u001b[39m, in \u001b[36mdeprecate_nonkeyword_arguments.<locals>.decorate.<locals>.wrapper\u001b[39m\u001b[34m(*args, **kwargs)\u001b[39m\n\u001b[32m    327\u001b[39m \u001b[38;5;28;01mif\u001b[39;00m \u001b[38;5;28mlen\u001b[39m(args) > num_allow_args:\n\u001b[32m    328\u001b[39m     warnings.warn(\n\u001b[32m    329\u001b[39m         msg.format(arguments=_format_argument_list(allow_args)),\n\u001b[32m    330\u001b[39m         \u001b[38;5;167;01mFutureWarning\u001b[39;00m,\n\u001b[32m    331\u001b[39m         stacklevel=find_stack_level(),\n\u001b[32m    332\u001b[39m     )\n\u001b[32m--> \u001b[39m\u001b[32m333\u001b[39m \u001b[38;5;28;01mreturn\u001b[39;00m \u001b[43mfunc\u001b[49m\u001b[43m(\u001b[49m\u001b[43m*\u001b[49m\u001b[43margs\u001b[49m\u001b[43m,\u001b[49m\u001b[43m \u001b[49m\u001b[43m*\u001b[49m\u001b[43m*\u001b[49m\u001b[43mkwargs\u001b[49m\u001b[43m)\u001b[49m\n",
      "\u001b[36mFile \u001b[39m\u001b[32mc:\\Users\\minec\\miniconda3\\Lib\\site-packages\\pandas\\core\\generic.py:3967\u001b[39m, in \u001b[36mNDFrame.to_csv\u001b[39m\u001b[34m(self, path_or_buf, sep, na_rep, float_format, columns, header, index, index_label, mode, encoding, compression, quoting, quotechar, lineterminator, chunksize, date_format, doublequote, escapechar, decimal, errors, storage_options)\u001b[39m\n\u001b[32m   3956\u001b[39m df = \u001b[38;5;28mself\u001b[39m \u001b[38;5;28;01mif\u001b[39;00m \u001b[38;5;28misinstance\u001b[39m(\u001b[38;5;28mself\u001b[39m, ABCDataFrame) \u001b[38;5;28;01melse\u001b[39;00m \u001b[38;5;28mself\u001b[39m.to_frame()\n\u001b[32m   3958\u001b[39m formatter = DataFrameFormatter(\n\u001b[32m   3959\u001b[39m     frame=df,\n\u001b[32m   3960\u001b[39m     header=header,\n\u001b[32m   (...)\u001b[39m\u001b[32m   3964\u001b[39m     decimal=decimal,\n\u001b[32m   3965\u001b[39m )\n\u001b[32m-> \u001b[39m\u001b[32m3967\u001b[39m \u001b[38;5;28;01mreturn\u001b[39;00m \u001b[43mDataFrameRenderer\u001b[49m\u001b[43m(\u001b[49m\u001b[43mformatter\u001b[49m\u001b[43m)\u001b[49m\u001b[43m.\u001b[49m\u001b[43mto_csv\u001b[49m\u001b[43m(\u001b[49m\n\u001b[32m   3968\u001b[39m \u001b[43m    \u001b[49m\u001b[43mpath_or_buf\u001b[49m\u001b[43m,\u001b[49m\n\u001b[32m   3969\u001b[39m \u001b[43m    \u001b[49m\u001b[43mlineterminator\u001b[49m\u001b[43m=\u001b[49m\u001b[43mlineterminator\u001b[49m\u001b[43m,\u001b[49m\n\u001b[32m   3970\u001b[39m \u001b[43m    \u001b[49m\u001b[43msep\u001b[49m\u001b[43m=\u001b[49m\u001b[43msep\u001b[49m\u001b[43m,\u001b[49m\n\u001b[32m   3971\u001b[39m \u001b[43m    \u001b[49m\u001b[43mencoding\u001b[49m\u001b[43m=\u001b[49m\u001b[43mencoding\u001b[49m\u001b[43m,\u001b[49m\n\u001b[32m   3972\u001b[39m \u001b[43m    \u001b[49m\u001b[43merrors\u001b[49m\u001b[43m=\u001b[49m\u001b[43merrors\u001b[49m\u001b[43m,\u001b[49m\n\u001b[32m   3973\u001b[39m \u001b[43m    \u001b[49m\u001b[43mcompression\u001b[49m\u001b[43m=\u001b[49m\u001b[43mcompression\u001b[49m\u001b[43m,\u001b[49m\n\u001b[32m   3974\u001b[39m \u001b[43m    \u001b[49m\u001b[43mquoting\u001b[49m\u001b[43m=\u001b[49m\u001b[43mquoting\u001b[49m\u001b[43m,\u001b[49m\n\u001b[32m   3975\u001b[39m \u001b[43m    \u001b[49m\u001b[43mcolumns\u001b[49m\u001b[43m=\u001b[49m\u001b[43mcolumns\u001b[49m\u001b[43m,\u001b[49m\n\u001b[32m   3976\u001b[39m \u001b[43m    \u001b[49m\u001b[43mindex_label\u001b[49m\u001b[43m=\u001b[49m\u001b[43mindex_label\u001b[49m\u001b[43m,\u001b[49m\n\u001b[32m   3977\u001b[39m \u001b[43m    \u001b[49m\u001b[43mmode\u001b[49m\u001b[43m=\u001b[49m\u001b[43mmode\u001b[49m\u001b[43m,\u001b[49m\n\u001b[32m   3978\u001b[39m \u001b[43m    \u001b[49m\u001b[43mchunksize\u001b[49m\u001b[43m=\u001b[49m\u001b[43mchunksize\u001b[49m\u001b[43m,\u001b[49m\n\u001b[32m   3979\u001b[39m \u001b[43m    \u001b[49m\u001b[43mquotechar\u001b[49m\u001b[43m=\u001b[49m\u001b[43mquotechar\u001b[49m\u001b[43m,\u001b[49m\n\u001b[32m   3980\u001b[39m \u001b[43m    \u001b[49m\u001b[43mdate_format\u001b[49m\u001b[43m=\u001b[49m\u001b[43mdate_format\u001b[49m\u001b[43m,\u001b[49m\n\u001b[32m   3981\u001b[39m \u001b[43m    \u001b[49m\u001b[43mdoublequote\u001b[49m\u001b[43m=\u001b[49m\u001b[43mdoublequote\u001b[49m\u001b[43m,\u001b[49m\n\u001b[32m   3982\u001b[39m \u001b[43m    \u001b[49m\u001b[43mescapechar\u001b[49m\u001b[43m=\u001b[49m\u001b[43mescapechar\u001b[49m\u001b[43m,\u001b[49m\n\u001b[32m   3983\u001b[39m \u001b[43m    \u001b[49m\u001b[43mstorage_options\u001b[49m\u001b[43m=\u001b[49m\u001b[43mstorage_options\u001b[49m\u001b[43m,\u001b[49m\n\u001b[32m   3984\u001b[39m \u001b[43m\u001b[49m\u001b[43m)\u001b[49m\n",
      "\u001b[36mFile \u001b[39m\u001b[32mc:\\Users\\minec\\miniconda3\\Lib\\site-packages\\pandas\\io\\formats\\format.py:1014\u001b[39m, in \u001b[36mDataFrameRenderer.to_csv\u001b[39m\u001b[34m(self, path_or_buf, encoding, sep, columns, index_label, mode, compression, quoting, quotechar, lineterminator, chunksize, date_format, doublequote, escapechar, errors, storage_options)\u001b[39m\n\u001b[32m    993\u001b[39m     created_buffer = \u001b[38;5;28;01mFalse\u001b[39;00m\n\u001b[32m    995\u001b[39m csv_formatter = CSVFormatter(\n\u001b[32m    996\u001b[39m     path_or_buf=path_or_buf,\n\u001b[32m    997\u001b[39m     lineterminator=lineterminator,\n\u001b[32m   (...)\u001b[39m\u001b[32m   1012\u001b[39m     formatter=\u001b[38;5;28mself\u001b[39m.fmt,\n\u001b[32m   1013\u001b[39m )\n\u001b[32m-> \u001b[39m\u001b[32m1014\u001b[39m \u001b[43mcsv_formatter\u001b[49m\u001b[43m.\u001b[49m\u001b[43msave\u001b[49m\u001b[43m(\u001b[49m\u001b[43m)\u001b[49m\n\u001b[32m   1016\u001b[39m \u001b[38;5;28;01mif\u001b[39;00m created_buffer:\n\u001b[32m   1017\u001b[39m     \u001b[38;5;28;01massert\u001b[39;00m \u001b[38;5;28misinstance\u001b[39m(path_or_buf, StringIO)\n",
      "\u001b[36mFile \u001b[39m\u001b[32mc:\\Users\\minec\\miniconda3\\Lib\\site-packages\\pandas\\io\\formats\\csvs.py:270\u001b[39m, in \u001b[36mCSVFormatter.save\u001b[39m\u001b[34m(self)\u001b[39m\n\u001b[32m    251\u001b[39m \u001b[38;5;28;01mwith\u001b[39;00m get_handle(\n\u001b[32m    252\u001b[39m     \u001b[38;5;28mself\u001b[39m.filepath_or_buffer,\n\u001b[32m    253\u001b[39m     \u001b[38;5;28mself\u001b[39m.mode,\n\u001b[32m   (...)\u001b[39m\u001b[32m    258\u001b[39m ) \u001b[38;5;28;01mas\u001b[39;00m handles:\n\u001b[32m    259\u001b[39m     \u001b[38;5;66;03m# Note: self.encoding is irrelevant here\u001b[39;00m\n\u001b[32m    260\u001b[39m     \u001b[38;5;28mself\u001b[39m.writer = csvlib.writer(\n\u001b[32m    261\u001b[39m         handles.handle,\n\u001b[32m    262\u001b[39m         lineterminator=\u001b[38;5;28mself\u001b[39m.lineterminator,\n\u001b[32m   (...)\u001b[39m\u001b[32m    267\u001b[39m         quotechar=\u001b[38;5;28mself\u001b[39m.quotechar,\n\u001b[32m    268\u001b[39m     )\n\u001b[32m--> \u001b[39m\u001b[32m270\u001b[39m     \u001b[38;5;28;43mself\u001b[39;49m\u001b[43m.\u001b[49m\u001b[43m_save\u001b[49m\u001b[43m(\u001b[49m\u001b[43m)\u001b[49m\n",
      "\u001b[36mFile \u001b[39m\u001b[32mc:\\Users\\minec\\miniconda3\\Lib\\site-packages\\pandas\\io\\formats\\csvs.py:275\u001b[39m, in \u001b[36mCSVFormatter._save\u001b[39m\u001b[34m(self)\u001b[39m\n\u001b[32m    273\u001b[39m \u001b[38;5;28;01mif\u001b[39;00m \u001b[38;5;28mself\u001b[39m._need_to_save_header:\n\u001b[32m    274\u001b[39m     \u001b[38;5;28mself\u001b[39m._save_header()\n\u001b[32m--> \u001b[39m\u001b[32m275\u001b[39m \u001b[38;5;28;43mself\u001b[39;49m\u001b[43m.\u001b[49m\u001b[43m_save_body\u001b[49m\u001b[43m(\u001b[49m\u001b[43m)\u001b[49m\n",
      "\u001b[36mFile \u001b[39m\u001b[32mc:\\Users\\minec\\miniconda3\\Lib\\site-packages\\pandas\\io\\formats\\csvs.py:313\u001b[39m, in \u001b[36mCSVFormatter._save_body\u001b[39m\u001b[34m(self)\u001b[39m\n\u001b[32m    311\u001b[39m \u001b[38;5;28;01mif\u001b[39;00m start_i >= end_i:\n\u001b[32m    312\u001b[39m     \u001b[38;5;28;01mbreak\u001b[39;00m\n\u001b[32m--> \u001b[39m\u001b[32m313\u001b[39m \u001b[38;5;28;43mself\u001b[39;49m\u001b[43m.\u001b[49m\u001b[43m_save_chunk\u001b[49m\u001b[43m(\u001b[49m\u001b[43mstart_i\u001b[49m\u001b[43m,\u001b[49m\u001b[43m \u001b[49m\u001b[43mend_i\u001b[49m\u001b[43m)\u001b[49m\n",
      "\u001b[36mFile \u001b[39m\u001b[32mc:\\Users\\minec\\miniconda3\\Lib\\site-packages\\pandas\\io\\formats\\csvs.py:324\u001b[39m, in \u001b[36mCSVFormatter._save_chunk\u001b[39m\u001b[34m(self, start_i, end_i)\u001b[39m\n\u001b[32m    321\u001b[39m data = \u001b[38;5;28mlist\u001b[39m(res._iter_column_arrays())\n\u001b[32m    323\u001b[39m ix = \u001b[38;5;28mself\u001b[39m.data_index[slicer]._get_values_for_csv(**\u001b[38;5;28mself\u001b[39m._number_format)\n\u001b[32m--> \u001b[39m\u001b[32m324\u001b[39m \u001b[43mlibwriters\u001b[49m\u001b[43m.\u001b[49m\u001b[43mwrite_csv_rows\u001b[49m\u001b[43m(\u001b[49m\n\u001b[32m    325\u001b[39m \u001b[43m    \u001b[49m\u001b[43mdata\u001b[49m\u001b[43m,\u001b[49m\n\u001b[32m    326\u001b[39m \u001b[43m    \u001b[49m\u001b[43mix\u001b[49m\u001b[43m,\u001b[49m\n\u001b[32m    327\u001b[39m \u001b[43m    \u001b[49m\u001b[38;5;28;43mself\u001b[39;49m\u001b[43m.\u001b[49m\u001b[43mnlevels\u001b[49m\u001b[43m,\u001b[49m\n\u001b[32m    328\u001b[39m \u001b[43m    \u001b[49m\u001b[38;5;28;43mself\u001b[39;49m\u001b[43m.\u001b[49m\u001b[43mcols\u001b[49m\u001b[43m,\u001b[49m\n\u001b[32m    329\u001b[39m \u001b[43m    \u001b[49m\u001b[38;5;28;43mself\u001b[39;49m\u001b[43m.\u001b[49m\u001b[43mwriter\u001b[49m\u001b[43m,\u001b[49m\n\u001b[32m    330\u001b[39m \u001b[43m\u001b[49m\u001b[43m)\u001b[49m\n",
      "\u001b[36mFile \u001b[39m\u001b[32mwriters.pyx:73\u001b[39m, in \u001b[36mpandas._libs.writers.write_csv_rows\u001b[39m\u001b[34m()\u001b[39m\n",
      "\u001b[36mFile \u001b[39m\u001b[32mc:\\Users\\minec\\miniconda3\\Lib\\site-packages\\numpy\\_core\\arrayprint.py:1702\u001b[39m, in \u001b[36m_array_str_implementation\u001b[39m\u001b[34m(a, max_line_width, precision, suppress_small, array2string)\u001b[39m\n\u001b[32m   1696\u001b[39m \u001b[38;5;28;01mif\u001b[39;00m a.shape == ():\n\u001b[32m   1697\u001b[39m     \u001b[38;5;66;03m# obtain a scalar and call str on it, avoiding problems for subclasses\u001b[39;00m\n\u001b[32m   1698\u001b[39m     \u001b[38;5;66;03m# for which indexing with () returns a 0d instead of a scalar by using\u001b[39;00m\n\u001b[32m   1699\u001b[39m     \u001b[38;5;66;03m# ndarray's getindex. Also guard against recursive 0d object arrays.\u001b[39;00m\n\u001b[32m   1700\u001b[39m     \u001b[38;5;28;01mreturn\u001b[39;00m _guarded_repr_or_str(np.ndarray.\u001b[34m__getitem__\u001b[39m(a, ()))\n\u001b[32m-> \u001b[39m\u001b[32m1702\u001b[39m \u001b[38;5;28;01mreturn\u001b[39;00m \u001b[43marray2string\u001b[49m\u001b[43m(\u001b[49m\u001b[43ma\u001b[49m\u001b[43m,\u001b[49m\u001b[43m \u001b[49m\u001b[43mmax_line_width\u001b[49m\u001b[43m,\u001b[49m\u001b[43m \u001b[49m\u001b[43mprecision\u001b[49m\u001b[43m,\u001b[49m\u001b[43m \u001b[49m\u001b[43msuppress_small\u001b[49m\u001b[43m,\u001b[49m\u001b[43m \u001b[49m\u001b[33;43m'\u001b[39;49m\u001b[33;43m \u001b[39;49m\u001b[33;43m'\u001b[39;49m\u001b[43m,\u001b[49m\u001b[43m \u001b[49m\u001b[33;43m\"\u001b[39;49m\u001b[33;43m\"\u001b[39;49m\u001b[43m)\u001b[49m\n",
      "\u001b[36mFile \u001b[39m\u001b[32mc:\\Users\\minec\\miniconda3\\Lib\\site-packages\\numpy\\_core\\arrayprint.py:784\u001b[39m, in \u001b[36marray2string\u001b[39m\u001b[34m(a, max_line_width, precision, suppress_small, separator, prefix, style, formatter, threshold, edgeitems, sign, floatmode, suffix, legacy)\u001b[39m\n\u001b[32m    781\u001b[39m \u001b[38;5;28;01mif\u001b[39;00m a.size == \u001b[32m0\u001b[39m:\n\u001b[32m    782\u001b[39m     \u001b[38;5;28;01mreturn\u001b[39;00m \u001b[33m\"\u001b[39m\u001b[33m[]\u001b[39m\u001b[33m\"\u001b[39m\n\u001b[32m--> \u001b[39m\u001b[32m784\u001b[39m \u001b[38;5;28;01mreturn\u001b[39;00m \u001b[43m_array2string\u001b[49m\u001b[43m(\u001b[49m\u001b[43ma\u001b[49m\u001b[43m,\u001b[49m\u001b[43m \u001b[49m\u001b[43moptions\u001b[49m\u001b[43m,\u001b[49m\u001b[43m \u001b[49m\u001b[43mseparator\u001b[49m\u001b[43m,\u001b[49m\u001b[43m \u001b[49m\u001b[43mprefix\u001b[49m\u001b[43m)\u001b[49m\n",
      "\u001b[36mFile \u001b[39m\u001b[32mc:\\Users\\minec\\miniconda3\\Lib\\site-packages\\numpy\\_core\\arrayprint.py:557\u001b[39m, in \u001b[36m_recursive_guard.<locals>.decorating_function.<locals>.wrapper\u001b[39m\u001b[34m(self, *args, **kwargs)\u001b[39m\n\u001b[32m    555\u001b[39m repr_running.add(key)\n\u001b[32m    556\u001b[39m \u001b[38;5;28;01mtry\u001b[39;00m:\n\u001b[32m--> \u001b[39m\u001b[32m557\u001b[39m     \u001b[38;5;28;01mreturn\u001b[39;00m \u001b[43mf\u001b[49m\u001b[43m(\u001b[49m\u001b[38;5;28;43mself\u001b[39;49m\u001b[43m,\u001b[49m\u001b[43m \u001b[49m\u001b[43m*\u001b[49m\u001b[43margs\u001b[49m\u001b[43m,\u001b[49m\u001b[43m \u001b[49m\u001b[43m*\u001b[49m\u001b[43m*\u001b[49m\u001b[43mkwargs\u001b[49m\u001b[43m)\u001b[49m\n\u001b[32m    558\u001b[39m \u001b[38;5;28;01mfinally\u001b[39;00m:\n\u001b[32m    559\u001b[39m     repr_running.discard(key)\n",
      "\u001b[36mFile \u001b[39m\u001b[32mc:\\Users\\minec\\miniconda3\\Lib\\site-packages\\numpy\\_core\\arrayprint.py:583\u001b[39m, in \u001b[36m_array2string\u001b[39m\u001b[34m(a, options, separator, prefix)\u001b[39m\n\u001b[32m    580\u001b[39m     summary_insert = \u001b[33m\"\u001b[39m\u001b[33m\"\u001b[39m\n\u001b[32m    582\u001b[39m \u001b[38;5;66;03m# find the right formatting function for the array\u001b[39;00m\n\u001b[32m--> \u001b[39m\u001b[32m583\u001b[39m format_function = \u001b[43m_get_format_function\u001b[49m\u001b[43m(\u001b[49m\u001b[43mdata\u001b[49m\u001b[43m,\u001b[49m\u001b[43m \u001b[49m\u001b[43m*\u001b[49m\u001b[43m*\u001b[49m\u001b[43moptions\u001b[49m\u001b[43m)\u001b[49m\n\u001b[32m    585\u001b[39m \u001b[38;5;66;03m# skip over \"[\"\u001b[39;00m\n\u001b[32m    586\u001b[39m next_line_prefix = \u001b[33m\"\u001b[39m\u001b[33m \u001b[39m\u001b[33m\"\u001b[39m\n",
      "\u001b[36mFile \u001b[39m\u001b[32mc:\\Users\\minec\\miniconda3\\Lib\\site-packages\\numpy\\_core\\arrayprint.py:516\u001b[39m, in \u001b[36m_get_format_function\u001b[39m\u001b[34m(data, **options)\u001b[39m\n\u001b[32m    514\u001b[39m         \u001b[38;5;28;01mreturn\u001b[39;00m formatdict[\u001b[33m'\u001b[39m\u001b[33mlongfloat\u001b[39m\u001b[33m'\u001b[39m]()\n\u001b[32m    515\u001b[39m     \u001b[38;5;28;01melse\u001b[39;00m:\n\u001b[32m--> \u001b[39m\u001b[32m516\u001b[39m         \u001b[38;5;28;01mreturn\u001b[39;00m \u001b[43mformatdict\u001b[49m\u001b[43m[\u001b[49m\u001b[33;43m'\u001b[39;49m\u001b[33;43mfloat\u001b[39;49m\u001b[33;43m'\u001b[39;49m\u001b[43m]\u001b[49m\u001b[43m(\u001b[49m\u001b[43m)\u001b[49m\n\u001b[32m    517\u001b[39m \u001b[38;5;28;01melif\u001b[39;00m \u001b[38;5;28missubclass\u001b[39m(dtypeobj, _nt.complexfloating):\n\u001b[32m    518\u001b[39m     \u001b[38;5;28;01mif\u001b[39;00m \u001b[38;5;28missubclass\u001b[39m(dtypeobj, _nt.clongdouble):\n",
      "\u001b[36mFile \u001b[39m\u001b[32mc:\\Users\\minec\\miniconda3\\Lib\\site-packages\\numpy\\_core\\arrayprint.py:455\u001b[39m, in \u001b[36m_get_formatdict.<locals>.<lambda>\u001b[39m\u001b[34m()\u001b[39m\n\u001b[32m    446\u001b[39m \u001b[38;5;28;01mdef\u001b[39;00m\u001b[38;5;250m \u001b[39m\u001b[34m_get_formatdict\u001b[39m(data, *, precision, floatmode, suppress, sign, legacy,\n\u001b[32m    447\u001b[39m                     formatter, **kwargs):\n\u001b[32m    448\u001b[39m     \u001b[38;5;66;03m# note: extra arguments in kwargs are ignored\u001b[39;00m\n\u001b[32m    449\u001b[39m \n\u001b[32m    450\u001b[39m     \u001b[38;5;66;03m# wrapped in lambdas to avoid taking a code path\u001b[39;00m\n\u001b[32m    451\u001b[39m     \u001b[38;5;66;03m# with the wrong type of data\u001b[39;00m\n\u001b[32m    452\u001b[39m     formatdict = {\n\u001b[32m    453\u001b[39m         \u001b[33m'\u001b[39m\u001b[33mbool\u001b[39m\u001b[33m'\u001b[39m: \u001b[38;5;28;01mlambda\u001b[39;00m: BoolFormat(data),\n\u001b[32m    454\u001b[39m         \u001b[33m'\u001b[39m\u001b[33mint\u001b[39m\u001b[33m'\u001b[39m: \u001b[38;5;28;01mlambda\u001b[39;00m: IntegerFormat(data, sign),\n\u001b[32m--> \u001b[39m\u001b[32m455\u001b[39m         \u001b[33m'\u001b[39m\u001b[33mfloat\u001b[39m\u001b[33m'\u001b[39m: \u001b[38;5;28;01mlambda\u001b[39;00m: \u001b[43mFloatingFormat\u001b[49m\u001b[43m(\u001b[49m\n\u001b[32m    456\u001b[39m \u001b[43m            \u001b[49m\u001b[43mdata\u001b[49m\u001b[43m,\u001b[49m\u001b[43m \u001b[49m\u001b[43mprecision\u001b[49m\u001b[43m,\u001b[49m\u001b[43m \u001b[49m\u001b[43mfloatmode\u001b[49m\u001b[43m,\u001b[49m\u001b[43m \u001b[49m\u001b[43msuppress\u001b[49m\u001b[43m,\u001b[49m\u001b[43m \u001b[49m\u001b[43msign\u001b[49m\u001b[43m,\u001b[49m\u001b[43m \u001b[49m\u001b[43mlegacy\u001b[49m\u001b[43m=\u001b[49m\u001b[43mlegacy\u001b[49m\u001b[43m)\u001b[49m,\n\u001b[32m    457\u001b[39m         \u001b[33m'\u001b[39m\u001b[33mlongfloat\u001b[39m\u001b[33m'\u001b[39m: \u001b[38;5;28;01mlambda\u001b[39;00m: FloatingFormat(\n\u001b[32m    458\u001b[39m             data, precision, floatmode, suppress, sign, legacy=legacy),\n\u001b[32m    459\u001b[39m         \u001b[33m'\u001b[39m\u001b[33mcomplexfloat\u001b[39m\u001b[33m'\u001b[39m: \u001b[38;5;28;01mlambda\u001b[39;00m: ComplexFloatingFormat(\n\u001b[32m    460\u001b[39m             data, precision, floatmode, suppress, sign, legacy=legacy),\n\u001b[32m    461\u001b[39m         \u001b[33m'\u001b[39m\u001b[33mlongcomplexfloat\u001b[39m\u001b[33m'\u001b[39m: \u001b[38;5;28;01mlambda\u001b[39;00m: ComplexFloatingFormat(\n\u001b[32m    462\u001b[39m             data, precision, floatmode, suppress, sign, legacy=legacy),\n\u001b[32m    463\u001b[39m         \u001b[33m'\u001b[39m\u001b[33mdatetime\u001b[39m\u001b[33m'\u001b[39m: \u001b[38;5;28;01mlambda\u001b[39;00m: DatetimeFormat(data, legacy=legacy),\n\u001b[32m    464\u001b[39m         \u001b[33m'\u001b[39m\u001b[33mtimedelta\u001b[39m\u001b[33m'\u001b[39m: \u001b[38;5;28;01mlambda\u001b[39;00m: TimedeltaFormat(data),\n\u001b[32m    465\u001b[39m         \u001b[33m'\u001b[39m\u001b[33mobject\u001b[39m\u001b[33m'\u001b[39m: \u001b[38;5;28;01mlambda\u001b[39;00m: _object_format,\n\u001b[32m    466\u001b[39m         \u001b[33m'\u001b[39m\u001b[33mvoid\u001b[39m\u001b[33m'\u001b[39m: \u001b[38;5;28;01mlambda\u001b[39;00m: str_format,\n\u001b[32m    467\u001b[39m         \u001b[33m'\u001b[39m\u001b[33mnumpystr\u001b[39m\u001b[33m'\u001b[39m: \u001b[38;5;28;01mlambda\u001b[39;00m: repr_format}\n\u001b[32m    469\u001b[39m     \u001b[38;5;66;03m# we need to wrap values in `formatter` in a lambda, so that the interface\u001b[39;00m\n\u001b[32m    470\u001b[39m     \u001b[38;5;66;03m# is the same as the above values.\u001b[39;00m\n\u001b[32m    471\u001b[39m     \u001b[38;5;28;01mdef\u001b[39;00m\u001b[38;5;250m \u001b[39m\u001b[34mindirect\u001b[39m(x):\n",
      "\u001b[36mFile \u001b[39m\u001b[32mc:\\Users\\minec\\miniconda3\\Lib\\site-packages\\numpy\\_core\\arrayprint.py:985\u001b[39m, in \u001b[36mFloatingFormat.__init__\u001b[39m\u001b[34m(self, data, precision, floatmode, suppress_small, sign, legacy)\u001b[39m\n\u001b[32m    983\u001b[39m \u001b[38;5;28mself\u001b[39m.exp_format = \u001b[38;5;28;01mFalse\u001b[39;00m\n\u001b[32m    984\u001b[39m \u001b[38;5;28mself\u001b[39m.large_exponent = \u001b[38;5;28;01mFalse\u001b[39;00m\n\u001b[32m--> \u001b[39m\u001b[32m985\u001b[39m \u001b[38;5;28;43mself\u001b[39;49m\u001b[43m.\u001b[49m\u001b[43mfillFormat\u001b[49m\u001b[43m(\u001b[49m\u001b[43mdata\u001b[49m\u001b[43m)\u001b[49m\n",
      "\u001b[36mFile \u001b[39m\u001b[32mc:\\Users\\minec\\miniconda3\\Lib\\site-packages\\numpy\\_core\\arrayprint.py:995\u001b[39m, in \u001b[36mFloatingFormat.fillFormat\u001b[39m\u001b[34m(self, data)\u001b[39m\n\u001b[32m    993\u001b[39m \u001b[38;5;28;01mif\u001b[39;00m \u001b[38;5;28mlen\u001b[39m(abs_non_zero) != \u001b[32m0\u001b[39m:\n\u001b[32m    994\u001b[39m     max_val = np.max(abs_non_zero)\n\u001b[32m--> \u001b[39m\u001b[32m995\u001b[39m     min_val = \u001b[43mnp\u001b[49m\u001b[43m.\u001b[49m\u001b[43mmin\u001b[49m\u001b[43m(\u001b[49m\u001b[43mabs_non_zero\u001b[49m\u001b[43m)\u001b[49m\n\u001b[32m    996\u001b[39m     \u001b[38;5;28;01mwith\u001b[39;00m errstate(over=\u001b[33m'\u001b[39m\u001b[33mignore\u001b[39m\u001b[33m'\u001b[39m):  \u001b[38;5;66;03m# division can overflow\u001b[39;00m\n\u001b[32m    997\u001b[39m         \u001b[38;5;28;01mif\u001b[39;00m max_val >= \u001b[32m1.e8\u001b[39m \u001b[38;5;129;01mor\u001b[39;00m (\u001b[38;5;129;01mnot\u001b[39;00m \u001b[38;5;28mself\u001b[39m.suppress_small \u001b[38;5;129;01mand\u001b[39;00m\n\u001b[32m    998\u001b[39m                 (min_val < \u001b[32m0.0001\u001b[39m \u001b[38;5;129;01mor\u001b[39;00m max_val/min_val > \u001b[32m1000.\u001b[39m)):\n",
      "\u001b[31mKeyboardInterrupt\u001b[39m: "
     ]
    }
   ],
   "source": [
    "#merged_df_onehot_vectorized_df.to_csv('../merged_df_onehot_vectorized_df.csv', index=False)\n"
>>>>>>> parent of 15f038d (把merge后的数据转为csv了)
   ]
  },
  {
   "cell_type": "markdown",
   "id": "868b6a55",
   "metadata": {},
   "source": [
    "If im going to use MLP models, then i will need to vectorise the continuous numeric data"
   ]
  },
  {
   "cell_type": "code",
   "execution_count": null,
   "id": "3ed375b2",
   "metadata": {},
<<<<<<< HEAD
   "outputs": [],
=======
   "outputs": [
    {
     "data": {
      "text/html": [
       "<div>\n",
       "<style scoped>\n",
       "    .dataframe tbody tr th:only-of-type {\n",
       "        vertical-align: middle;\n",
       "    }\n",
       "\n",
       "    .dataframe tbody tr th {\n",
       "        vertical-align: top;\n",
       "    }\n",
       "\n",
       "    .dataframe thead th {\n",
       "        text-align: right;\n",
       "    }\n",
       "</style>\n",
       "<table border=\"1\" class=\"dataframe\">\n",
       "  <thead>\n",
       "    <tr style=\"text-align: right;\">\n",
       "      <th></th>\n",
       "      <th>min</th>\n",
       "      <th>max</th>\n",
       "      <th>range</th>\n",
       "    </tr>\n",
       "  </thead>\n",
       "  <tbody>\n",
       "    <tr>\n",
       "      <th>VEHICLE_WEIGHT</th>\n",
       "      <td>251.0</td>\n",
       "      <td>340000.0</td>\n",
       "      <td>339749.0</td>\n",
       "    </tr>\n",
       "    <tr>\n",
       "      <th>CARRY_CAPACITY</th>\n",
       "      <td>1.0</td>\n",
       "      <td>323060.0</td>\n",
       "      <td>323059.0</td>\n",
       "    </tr>\n",
       "    <tr>\n",
       "      <th>TARE_WEIGHT</th>\n",
       "      <td>0.0</td>\n",
       "      <td>96000.0</td>\n",
       "      <td>96000.0</td>\n",
       "    </tr>\n",
       "    <tr>\n",
       "      <th>CUBIC_CAPACITY</th>\n",
       "      <td>100.0</td>\n",
       "      <td>9900.0</td>\n",
       "      <td>9800.0</td>\n",
       "    </tr>\n",
       "    <tr>\n",
       "      <th>SPEED_ZONE</th>\n",
       "      <td>30.0</td>\n",
       "      <td>999.0</td>\n",
       "      <td>969.0</td>\n",
       "    </tr>\n",
       "    <tr>\n",
       "      <th>DCA_CODE</th>\n",
       "      <td>100.0</td>\n",
       "      <td>199.0</td>\n",
       "      <td>99.0</td>\n",
       "    </tr>\n",
       "    <tr>\n",
       "      <th>TRAFFIC_CONTROL</th>\n",
       "      <td>0.0</td>\n",
       "      <td>99.0</td>\n",
       "      <td>99.0</td>\n",
       "    </tr>\n",
       "    <tr>\n",
       "      <th>VEHICLE_TYPE</th>\n",
       "      <td>1.0</td>\n",
       "      <td>99.0</td>\n",
       "      <td>98.0</td>\n",
       "    </tr>\n",
       "    <tr>\n",
       "      <th>VEHICLE_MOVEMENT</th>\n",
       "      <td>1.0</td>\n",
       "      <td>99.0</td>\n",
       "      <td>98.0</td>\n",
       "    </tr>\n",
       "    <tr>\n",
       "      <th>DRIVER_INTENT</th>\n",
       "      <td>1.0</td>\n",
       "      <td>99.0</td>\n",
       "      <td>98.0</td>\n",
       "    </tr>\n",
       "    <tr>\n",
       "      <th>NO_PERSONS</th>\n",
       "      <td>1.0</td>\n",
       "      <td>97.0</td>\n",
       "      <td>96.0</td>\n",
       "    </tr>\n",
       "    <tr>\n",
       "      <th>NO_PERSONS_NOT_INJ</th>\n",
       "      <td>0.0</td>\n",
       "      <td>94.0</td>\n",
       "      <td>94.0</td>\n",
       "    </tr>\n",
       "    <tr>\n",
       "      <th>NO_OF_CYLINDERS</th>\n",
       "      <td>1.0</td>\n",
       "      <td>93.0</td>\n",
       "      <td>92.0</td>\n",
       "    </tr>\n",
       "    <tr>\n",
       "      <th>SEATING_CAPACITY</th>\n",
       "      <td>1.0</td>\n",
       "      <td>70.0</td>\n",
       "      <td>69.0</td>\n",
       "    </tr>\n",
       "    <tr>\n",
       "      <th>VEHICLE_YEAR_MANUF</th>\n",
       "      <td>1961.0</td>\n",
       "      <td>2024.0</td>\n",
       "      <td>63.0</td>\n",
       "    </tr>\n",
       "    <tr>\n",
       "      <th>TOTAL_NO_OCCUPANTS</th>\n",
       "      <td>0.0</td>\n",
       "      <td>49.0</td>\n",
       "      <td>49.0</td>\n",
       "    </tr>\n",
       "    <tr>\n",
       "      <th>NO_OF_WHEELS</th>\n",
       "      <td>2.0</td>\n",
       "      <td>46.0</td>\n",
       "      <td>44.0</td>\n",
       "    </tr>\n",
       "    <tr>\n",
       "      <th>NO_PERSONS_INJ_3</th>\n",
       "      <td>0.0</td>\n",
       "      <td>43.0</td>\n",
       "      <td>43.0</td>\n",
       "    </tr>\n",
       "    <tr>\n",
       "      <th>NO_OF_VEHICLES</th>\n",
       "      <td>1.0</td>\n",
       "      <td>21.0</td>\n",
       "      <td>20.0</td>\n",
       "    </tr>\n",
       "    <tr>\n",
       "      <th>NO_PERSONS_INJ_2</th>\n",
       "      <td>0.0</td>\n",
       "      <td>16.0</td>\n",
       "      <td>16.0</td>\n",
       "    </tr>\n",
       "  </tbody>\n",
       "</table>\n",
       "</div>"
      ],
      "text/plain": [
       "                       min       max     range\n",
       "VEHICLE_WEIGHT       251.0  340000.0  339749.0\n",
       "CARRY_CAPACITY         1.0  323060.0  323059.0\n",
       "TARE_WEIGHT            0.0   96000.0   96000.0\n",
       "CUBIC_CAPACITY       100.0    9900.0    9800.0\n",
       "SPEED_ZONE            30.0     999.0     969.0\n",
       "DCA_CODE             100.0     199.0      99.0\n",
       "TRAFFIC_CONTROL        0.0      99.0      99.0\n",
       "VEHICLE_TYPE           1.0      99.0      98.0\n",
       "VEHICLE_MOVEMENT       1.0      99.0      98.0\n",
       "DRIVER_INTENT          1.0      99.0      98.0\n",
       "NO_PERSONS             1.0      97.0      96.0\n",
       "NO_PERSONS_NOT_INJ     0.0      94.0      94.0\n",
       "NO_OF_CYLINDERS        1.0      93.0      92.0\n",
       "SEATING_CAPACITY       1.0      70.0      69.0\n",
       "VEHICLE_YEAR_MANUF  1961.0    2024.0      63.0\n",
       "TOTAL_NO_OCCUPANTS     0.0      49.0      49.0\n",
       "NO_OF_WHEELS           2.0      46.0      44.0\n",
       "NO_PERSONS_INJ_3       0.0      43.0      43.0\n",
       "NO_OF_VEHICLES         1.0      21.0      20.0\n",
       "NO_PERSONS_INJ_2       0.0      16.0      16.0"
      ]
     },
     "execution_count": 118,
     "metadata": {},
     "output_type": "execute_result"
    }
   ],
>>>>>>> parent of 15f038d (把merge后的数据转为csv了)
   "source": [
    "from pandas.api.types import is_numeric_dtype\n",
    "\n",
    "# 找出数值列\n",
    "numeric_cols = [col for col in merged_df.columns if is_numeric_dtype(merged_df[col])]\n",
    "\n",
    "# 计算每列的最小值、最大值和范围\n",
    "spread = merged_df[numeric_cols].agg(['min', 'max'])\n",
    "spread.loc['range'] = spread.loc['max'] - spread.loc['min']\n",
    "\n",
    "# 转置后查看范围最大的列（建议归一化）\n",
    "spread.T.sort_values(by='range', ascending=False).head(20)\n"
   ]
  },
  {
   "cell_type": "code",
   "execution_count": null,
   "id": "671177ed",
   "metadata": {},
<<<<<<< HEAD
   "outputs": [],
=======
   "outputs": [
    {
     "data": {
      "text/plain": [
       "SEVERITY\n",
       "3    0.634421\n",
       "2    0.349825\n",
       "1    0.015743\n",
       "4    0.000011\n",
       "Name: proportion, dtype: float64"
      ]
     },
     "execution_count": 119,
     "metadata": {},
     "output_type": "execute_result"
    }
   ],
>>>>>>> parent of 15f038d (把merge后的数据转为csv了)
   "source": [
    "merged_df_onehot_vectorized_df['SEVERITY'].value_counts(normalize=True)\n"
   ]
  },
  {
   "cell_type": "code",
   "execution_count": null,
   "id": "58e6158b",
   "metadata": {},
   "outputs": [],
   "source": [
    "normalize_columns = [\n",
    "    'NO_OF_VEHICLES',         \n",
    "    'NO_PERSONS_KILLED',      \n",
    "    'NO_PERSONS_INJ_2',       \n",
    "    'NO_PERSONS_INJ_3',       \n",
    "    'NO_PERSONS_NOT_INJ',     \n",
    "    'NO_PERSONS',             \n",
    "    'NO_OF_WHEELS',           \n",
    "    'NO_OF_CYLINDERS',        \n",
    "    'SEATING_CAPACITY',       \n",
    "    'TARE_WEIGHT',            \n",
    "    'TOTAL_NO_OCCUPANTS',     \n",
    "    'CARRY_CAPACITY',         \n",
    "    'CUBIC_CAPACITY',         \n",
    "    'VEHICLE_WEIGHT'          \n",
    "]"
   ]
  }
 ],
 "metadata": {
  "kernelspec": {
   "display_name": "base",
   "language": "python",
   "name": "python3"
  },
  "language_info": {
   "codemirror_mode": {
    "name": "ipython",
    "version": 3
   },
   "file_extension": ".py",
   "mimetype": "text/x-python",
   "name": "python",
   "nbconvert_exporter": "python",
   "pygments_lexer": "ipython3",
   "version": "3.12.3"
  }
 },
 "nbformat": 4,
 "nbformat_minor": 5
}
