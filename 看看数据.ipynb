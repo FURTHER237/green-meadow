{
 "cells": [
  {
   "cell_type": "code",
   "execution_count": 10,
   "id": "89ecbd15",
   "metadata": {},
   "outputs": [],
   "source": [
    "import pandas as pd\n",
    "import matplotlib.pyplot as plt\n",
    "\n",
    "vehicle_df = pd.read_csv('home (11)/vehicle.csv')\n",
    "accident_df = pd.read_csv('home (11)/accident.csv')"
   ]
  },
  {
   "cell_type": "markdown",
   "id": "0d338114",
   "metadata": {},
   "source": [
    "先看看这两个数据长啥样"
   ]
  },
  {
   "cell_type": "code",
   "execution_count": 11,
   "id": "eda2c5da",
   "metadata": {},
   "outputs": [
    {
     "data": {
      "text/html": [
       "<div>\n",
       "<style scoped>\n",
       "    .dataframe tbody tr th:only-of-type {\n",
       "        vertical-align: middle;\n",
       "    }\n",
       "\n",
       "    .dataframe tbody tr th {\n",
       "        vertical-align: top;\n",
       "    }\n",
       "\n",
       "    .dataframe thead th {\n",
       "        text-align: right;\n",
       "    }\n",
       "</style>\n",
       "<table border=\"1\" class=\"dataframe\">\n",
       "  <thead>\n",
       "    <tr style=\"text-align: right;\">\n",
       "      <th></th>\n",
       "      <th>ACCIDENT_NO</th>\n",
       "      <th>VEHICLE_ID</th>\n",
       "      <th>VEHICLE_YEAR_MANUF</th>\n",
       "      <th>VEHICLE_DCA_CODE</th>\n",
       "      <th>INITIAL_DIRECTION</th>\n",
       "      <th>ROAD_SURFACE_TYPE</th>\n",
       "      <th>ROAD_SURFACE_TYPE_DESC</th>\n",
       "      <th>REG_STATE</th>\n",
       "      <th>VEHICLE_BODY_STYLE</th>\n",
       "      <th>VEHICLE_MAKE</th>\n",
       "      <th>...</th>\n",
       "      <th>TRAILER_TYPE</th>\n",
       "      <th>VEHICLE_COLOUR_1</th>\n",
       "      <th>VEHICLE_COLOUR_2</th>\n",
       "      <th>CAUGHT_FIRE</th>\n",
       "      <th>INITIAL_IMPACT</th>\n",
       "      <th>LAMPS</th>\n",
       "      <th>LEVEL_OF_DAMAGE</th>\n",
       "      <th>TOWED_AWAY_FLAG</th>\n",
       "      <th>TRAFFIC_CONTROL</th>\n",
       "      <th>TRAFFIC_CONTROL_DESC</th>\n",
       "    </tr>\n",
       "  </thead>\n",
       "  <tbody>\n",
       "    <tr>\n",
       "      <th>0</th>\n",
       "      <td>T20120000009</td>\n",
       "      <td>A</td>\n",
       "      <td>1996.0</td>\n",
       "      <td>1.0</td>\n",
       "      <td>E</td>\n",
       "      <td>1.0</td>\n",
       "      <td>Paved</td>\n",
       "      <td>V</td>\n",
       "      <td>SEDAN</td>\n",
       "      <td>HOLDEN</td>\n",
       "      <td>...</td>\n",
       "      <td>H</td>\n",
       "      <td>WHI</td>\n",
       "      <td>ZZ</td>\n",
       "      <td>2.0</td>\n",
       "      <td>1</td>\n",
       "      <td>1.0</td>\n",
       "      <td>5</td>\n",
       "      <td>1.0</td>\n",
       "      <td>0.0</td>\n",
       "      <td>No control</td>\n",
       "    </tr>\n",
       "    <tr>\n",
       "      <th>1</th>\n",
       "      <td>T20120000012</td>\n",
       "      <td>A</td>\n",
       "      <td>2002.0</td>\n",
       "      <td>1.0</td>\n",
       "      <td>W</td>\n",
       "      <td>1.0</td>\n",
       "      <td>Paved</td>\n",
       "      <td>V</td>\n",
       "      <td>SEDAN</td>\n",
       "      <td>HOLDEN</td>\n",
       "      <td>...</td>\n",
       "      <td>H</td>\n",
       "      <td>BLU</td>\n",
       "      <td>ZZ</td>\n",
       "      <td>2.0</td>\n",
       "      <td>1</td>\n",
       "      <td>1.0</td>\n",
       "      <td>2</td>\n",
       "      <td>2.0</td>\n",
       "      <td>1.0</td>\n",
       "      <td>Stop-go lights</td>\n",
       "    </tr>\n",
       "    <tr>\n",
       "      <th>2</th>\n",
       "      <td>T20120000012</td>\n",
       "      <td>B</td>\n",
       "      <td>1988.0</td>\n",
       "      <td>2.0</td>\n",
       "      <td>S</td>\n",
       "      <td>1.0</td>\n",
       "      <td>Paved</td>\n",
       "      <td>V</td>\n",
       "      <td>SEDAN</td>\n",
       "      <td>TOYOTA</td>\n",
       "      <td>...</td>\n",
       "      <td>H</td>\n",
       "      <td>WHI</td>\n",
       "      <td>ZZ</td>\n",
       "      <td>2.0</td>\n",
       "      <td>5</td>\n",
       "      <td>9.0</td>\n",
       "      <td>4</td>\n",
       "      <td>1.0</td>\n",
       "      <td>1.0</td>\n",
       "      <td>Stop-go lights</td>\n",
       "    </tr>\n",
       "  </tbody>\n",
       "</table>\n",
       "<p>3 rows × 37 columns</p>\n",
       "</div>"
      ],
      "text/plain": [
       "    ACCIDENT_NO VEHICLE_ID  VEHICLE_YEAR_MANUF  VEHICLE_DCA_CODE  \\\n",
       "0  T20120000009          A              1996.0               1.0   \n",
       "1  T20120000012          A              2002.0               1.0   \n",
       "2  T20120000012          B              1988.0               2.0   \n",
       "\n",
       "  INITIAL_DIRECTION  ROAD_SURFACE_TYPE ROAD_SURFACE_TYPE_DESC REG_STATE  \\\n",
       "0                 E                1.0                  Paved         V   \n",
       "1                 W                1.0                  Paved         V   \n",
       "2                 S                1.0                  Paved         V   \n",
       "\n",
       "  VEHICLE_BODY_STYLE VEHICLE_MAKE  ... TRAILER_TYPE  VEHICLE_COLOUR_1  \\\n",
       "0              SEDAN       HOLDEN  ...            H               WHI   \n",
       "1              SEDAN       HOLDEN  ...            H               BLU   \n",
       "2              SEDAN       TOYOTA  ...            H               WHI   \n",
       "\n",
       "   VEHICLE_COLOUR_2 CAUGHT_FIRE  INITIAL_IMPACT LAMPS LEVEL_OF_DAMAGE  \\\n",
       "0                ZZ         2.0               1   1.0               5   \n",
       "1                ZZ         2.0               1   1.0               2   \n",
       "2                ZZ         2.0               5   9.0               4   \n",
       "\n",
       "   TOWED_AWAY_FLAG  TRAFFIC_CONTROL  TRAFFIC_CONTROL_DESC  \n",
       "0              1.0              0.0            No control  \n",
       "1              2.0              1.0        Stop-go lights  \n",
       "2              1.0              1.0        Stop-go lights  \n",
       "\n",
       "[3 rows x 37 columns]"
      ]
     },
     "execution_count": 11,
     "metadata": {},
     "output_type": "execute_result"
    }
   ],
   "source": [
    "vehicle_df.head(3)"
   ]
  },
  {
   "cell_type": "code",
   "execution_count": 12,
   "id": "22747915",
   "metadata": {},
   "outputs": [
    {
     "data": {
      "text/html": [
       "<div>\n",
       "<style scoped>\n",
       "    .dataframe tbody tr th:only-of-type {\n",
       "        vertical-align: middle;\n",
       "    }\n",
       "\n",
       "    .dataframe tbody tr th {\n",
       "        vertical-align: top;\n",
       "    }\n",
       "\n",
       "    .dataframe thead th {\n",
       "        text-align: right;\n",
       "    }\n",
       "</style>\n",
       "<table border=\"1\" class=\"dataframe\">\n",
       "  <thead>\n",
       "    <tr style=\"text-align: right;\">\n",
       "      <th></th>\n",
       "      <th>ACCIDENT_NO</th>\n",
       "      <th>ACCIDENT_DATE</th>\n",
       "      <th>ACCIDENT_TIME</th>\n",
       "      <th>ACCIDENT_TYPE</th>\n",
       "      <th>ACCIDENT_TYPE_DESC</th>\n",
       "      <th>DAY_OF_WEEK</th>\n",
       "      <th>DAY_WEEK_DESC</th>\n",
       "      <th>DCA_CODE</th>\n",
       "      <th>DCA_DESC</th>\n",
       "      <th>LIGHT_CONDITION</th>\n",
       "      <th>...</th>\n",
       "      <th>NO_PERSONS_INJ_2</th>\n",
       "      <th>NO_PERSONS_INJ_3</th>\n",
       "      <th>NO_PERSONS_NOT_INJ</th>\n",
       "      <th>NO_PERSONS</th>\n",
       "      <th>POLICE_ATTEND</th>\n",
       "      <th>ROAD_GEOMETRY</th>\n",
       "      <th>ROAD_GEOMETRY_DESC</th>\n",
       "      <th>SEVERITY</th>\n",
       "      <th>SPEED_ZONE</th>\n",
       "      <th>RMA</th>\n",
       "    </tr>\n",
       "  </thead>\n",
       "  <tbody>\n",
       "    <tr>\n",
       "      <th>0</th>\n",
       "      <td>T20120000046</td>\n",
       "      <td>2012-01-01</td>\n",
       "      <td>16:25:00</td>\n",
       "      <td>2</td>\n",
       "      <td>Struck Pedestrian</td>\n",
       "      <td>1</td>\n",
       "      <td>Sunday</td>\n",
       "      <td>102</td>\n",
       "      <td>FAR SIDE. PED HIT BY VEHICLE FROM THE LEFT</td>\n",
       "      <td>1</td>\n",
       "      <td>...</td>\n",
       "      <td>0</td>\n",
       "      <td>1</td>\n",
       "      <td>1</td>\n",
       "      <td>2</td>\n",
       "      <td>1</td>\n",
       "      <td>2</td>\n",
       "      <td>T intersection</td>\n",
       "      <td>3</td>\n",
       "      <td>60</td>\n",
       "      <td>Arterial Other</td>\n",
       "    </tr>\n",
       "    <tr>\n",
       "      <th>1</th>\n",
       "      <td>T20120000062</td>\n",
       "      <td>2012-01-01</td>\n",
       "      <td>18:00:00</td>\n",
       "      <td>4</td>\n",
       "      <td>Collision with a fixed object</td>\n",
       "      <td>1</td>\n",
       "      <td>Sunday</td>\n",
       "      <td>173</td>\n",
       "      <td>RIGHT OFF CARRIAGEWAY INTO OBJECT/PARKED VEHICLE</td>\n",
       "      <td>1</td>\n",
       "      <td>...</td>\n",
       "      <td>1</td>\n",
       "      <td>0</td>\n",
       "      <td>0</td>\n",
       "      <td>1</td>\n",
       "      <td>1</td>\n",
       "      <td>5</td>\n",
       "      <td>Not at intersection</td>\n",
       "      <td>2</td>\n",
       "      <td>100</td>\n",
       "      <td>NaN</td>\n",
       "    </tr>\n",
       "    <tr>\n",
       "      <th>2</th>\n",
       "      <td>T20120000060</td>\n",
       "      <td>2012-01-01</td>\n",
       "      <td>19:40:00</td>\n",
       "      <td>6</td>\n",
       "      <td>Vehicle overturned (no collision)</td>\n",
       "      <td>1</td>\n",
       "      <td>Sunday</td>\n",
       "      <td>184</td>\n",
       "      <td>OUT OF CONTROL ON CARRIAGEWAY (ON BEND)</td>\n",
       "      <td>1</td>\n",
       "      <td>...</td>\n",
       "      <td>1</td>\n",
       "      <td>0</td>\n",
       "      <td>0</td>\n",
       "      <td>1</td>\n",
       "      <td>1</td>\n",
       "      <td>2</td>\n",
       "      <td>T intersection</td>\n",
       "      <td>2</td>\n",
       "      <td>60</td>\n",
       "      <td>Local Road</td>\n",
       "    </tr>\n",
       "  </tbody>\n",
       "</table>\n",
       "<p>3 rows × 23 columns</p>\n",
       "</div>"
      ],
      "text/plain": [
       "    ACCIDENT_NO ACCIDENT_DATE ACCIDENT_TIME  ACCIDENT_TYPE  \\\n",
       "0  T20120000046    2012-01-01      16:25:00              2   \n",
       "1  T20120000062    2012-01-01      18:00:00              4   \n",
       "2  T20120000060    2012-01-01      19:40:00              6   \n",
       "\n",
       "                  ACCIDENT_TYPE_DESC  DAY_OF_WEEK DAY_WEEK_DESC  DCA_CODE  \\\n",
       "0                  Struck Pedestrian            1        Sunday       102   \n",
       "1      Collision with a fixed object            1        Sunday       173   \n",
       "2  Vehicle overturned (no collision)            1        Sunday       184   \n",
       "\n",
       "                                           DCA_DESC  LIGHT_CONDITION  ...  \\\n",
       "0        FAR SIDE. PED HIT BY VEHICLE FROM THE LEFT                1  ...   \n",
       "1  RIGHT OFF CARRIAGEWAY INTO OBJECT/PARKED VEHICLE                1  ...   \n",
       "2           OUT OF CONTROL ON CARRIAGEWAY (ON BEND)                1  ...   \n",
       "\n",
       "   NO_PERSONS_INJ_2  NO_PERSONS_INJ_3  NO_PERSONS_NOT_INJ  NO_PERSONS  \\\n",
       "0                 0                 1                   1           2   \n",
       "1                 1                 0                   0           1   \n",
       "2                 1                 0                   0           1   \n",
       "\n",
       "   POLICE_ATTEND  ROAD_GEOMETRY   ROAD_GEOMETRY_DESC  SEVERITY  SPEED_ZONE  \\\n",
       "0              1              2       T intersection         3          60   \n",
       "1              1              5  Not at intersection         2         100   \n",
       "2              1              2       T intersection         2          60   \n",
       "\n",
       "              RMA  \n",
       "0  Arterial Other  \n",
       "1             NaN  \n",
       "2      Local Road  \n",
       "\n",
       "[3 rows x 23 columns]"
      ]
     },
     "execution_count": 12,
     "metadata": {},
     "output_type": "execute_result"
    }
   ],
   "source": [
    "accident_df.head(3)"
   ]
  },
  {
   "cell_type": "markdown",
   "id": "859834d3",
   "metadata": {},
   "source": [
    "看看分别有多少features"
   ]
  },
  {
   "cell_type": "code",
   "execution_count": 14,
   "id": "b8d34cc8",
   "metadata": {},
   "outputs": [
    {
     "data": {
      "text/plain": [
       "37"
      ]
     },
     "execution_count": 14,
     "metadata": {},
     "output_type": "execute_result"
    }
   ],
   "source": [
    "vehicle_df.shape[1]\n"
   ]
  },
  {
   "cell_type": "code",
   "execution_count": 15,
   "id": "3924c971",
   "metadata": {},
   "outputs": [
    {
     "data": {
      "text/plain": [
       "23"
      ]
     },
     "execution_count": 15,
     "metadata": {},
     "output_type": "execute_result"
    }
   ],
   "source": [
    "accident_df.shape[1]"
   ]
  },
  {
   "cell_type": "markdown",
   "id": "b74acf87",
   "metadata": {},
   "source": [
    "看看两个数据库有没有一样的feature"
   ]
  },
  {
   "cell_type": "code",
   "execution_count": 17,
   "id": "329ed4a4",
   "metadata": {},
   "outputs": [
    {
     "data": {
      "text/plain": [
       "Index(['ACCIDENT_NO'], dtype='object')"
      ]
     },
     "execution_count": 17,
     "metadata": {},
     "output_type": "execute_result"
    }
   ],
   "source": [
    "vehicle_df.columns.intersection(accident_df.columns)"
   ]
  },
  {
   "cell_type": "markdown",
   "id": "30dc0a0b",
   "metadata": {},
   "source": [
    "看来要合并文档只能通过'ACCIDENT_NO'了"
   ]
  },
  {
   "cell_type": "code",
   "execution_count": 18,
   "id": "f73c28dc",
   "metadata": {},
   "outputs": [
    {
     "data": {
      "text/plain": [
       "ACCIDENT_NO                    0\n",
       "VEHICLE_ID                     0\n",
       "VEHICLE_YEAR_MANUF          6927\n",
       "VEHICLE_DCA_CODE             821\n",
       "INITIAL_DIRECTION              1\n",
       "ROAD_SURFACE_TYPE              1\n",
       "ROAD_SURFACE_TYPE_DESC         1\n",
       "REG_STATE                  20073\n",
       "VEHICLE_BODY_STYLE         25018\n",
       "VEHICLE_MAKE               18153\n",
       "VEHICLE_MODEL              30546\n",
       "VEHICLE_POWER             325889\n",
       "VEHICLE_TYPE                   0\n",
       "VEHICLE_TYPE_DESC              0\n",
       "VEHICLE_WEIGHT            285237\n",
       "CONSTRUCTION_TYPE          64069\n",
       "FUEL_TYPE                  18161\n",
       "NO_OF_WHEELS               40962\n",
       "NO_OF_CYLINDERS            33737\n",
       "SEATING_CAPACITY           56058\n",
       "TARE_WEIGHT                11942\n",
       "TOTAL_NO_OCCUPANTS            23\n",
       "CARRY_CAPACITY            285390\n",
       "CUBIC_CAPACITY            280790\n",
       "FINAL_DIRECTION                1\n",
       "DRIVER_INTENT                  4\n",
       "VEHICLE_MOVEMENT               6\n",
       "TRAILER_TYPE                  36\n",
       "VEHICLE_COLOUR_1               0\n",
       "VEHICLE_COLOUR_2              29\n",
       "CAUGHT_FIRE                    1\n",
       "INITIAL_IMPACT               233\n",
       "LAMPS                          1\n",
       "LEVEL_OF_DAMAGE                0\n",
       "TOWED_AWAY_FLAG                3\n",
       "TRAFFIC_CONTROL                3\n",
       "TRAFFIC_CONTROL_DESC           3\n",
       "dtype: int64"
      ]
     },
     "execution_count": 18,
     "metadata": {},
     "output_type": "execute_result"
    }
   ],
   "source": [
    "vehicle_df.isnull().sum()"
   ]
  },
  {
   "cell_type": "markdown",
   "id": "c4e67644",
   "metadata": {},
   "source": [
    "hmmm, 看起来这个文档缺失值很多啊"
   ]
  },
  {
   "cell_type": "code",
   "execution_count": 19,
   "id": "8543f9f2",
   "metadata": {},
   "outputs": [
    {
     "data": {
      "text/plain": [
       "ACCIDENT_NO              0\n",
       "ACCIDENT_DATE            0\n",
       "ACCIDENT_TIME            0\n",
       "ACCIDENT_TYPE            0\n",
       "ACCIDENT_TYPE_DESC       0\n",
       "DAY_OF_WEEK              0\n",
       "DAY_WEEK_DESC            0\n",
       "DCA_CODE                 0\n",
       "DCA_DESC                 0\n",
       "LIGHT_CONDITION          0\n",
       "NODE_ID                  0\n",
       "NO_OF_VEHICLES           0\n",
       "NO_PERSONS_KILLED        0\n",
       "NO_PERSONS_INJ_2         0\n",
       "NO_PERSONS_INJ_3         0\n",
       "NO_PERSONS_NOT_INJ       0\n",
       "NO_PERSONS               0\n",
       "POLICE_ATTEND            0\n",
       "ROAD_GEOMETRY            0\n",
       "ROAD_GEOMETRY_DESC       0\n",
       "SEVERITY                 0\n",
       "SPEED_ZONE               0\n",
       "RMA                   8644\n",
       "dtype: int64"
      ]
     },
     "execution_count": 19,
     "metadata": {},
     "output_type": "execute_result"
    }
   ],
   "source": [
    "accident_df.isnull().sum()"
   ]
  },
  {
   "cell_type": "markdown",
   "id": "317ee6c0",
   "metadata": {},
   "source": [
    "这边好很多"
   ]
  },
  {
   "cell_type": "code",
   "execution_count": null,
   "id": "de040fc3",
   "metadata": {},
   "outputs": [],
   "source": []
  }
 ],
 "metadata": {
  "kernelspec": {
   "display_name": "base",
   "language": "python",
   "name": "python3"
  },
  "language_info": {
   "codemirror_mode": {
    "name": "ipython",
    "version": 3
   },
   "file_extension": ".py",
   "mimetype": "text/x-python",
   "name": "python",
   "nbconvert_exporter": "python",
   "pygments_lexer": "ipython3",
   "version": "3.12.3"
  }
 },
 "nbformat": 4,
 "nbformat_minor": 5
}
